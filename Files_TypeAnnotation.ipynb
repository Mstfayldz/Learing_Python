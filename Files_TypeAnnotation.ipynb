{
  "nbformat": 4,
  "nbformat_minor": 0,
  "metadata": {
    "colab": {
      "provenance": [],
      "authorship_tag": "ABX9TyPmCYUmGeJLMzsZOY3cS89s",
      "include_colab_link": true
    },
    "kernelspec": {
      "name": "python3",
      "display_name": "Python 3"
    },
    "language_info": {
      "name": "python"
    }
  },
  "cells": [
    {
      "cell_type": "markdown",
      "metadata": {
        "id": "view-in-github",
        "colab_type": "text"
      },
      "source": [
        "<a href=\"https://colab.research.google.com/github/Mstfayldz/Learing_Python/blob/master/Files_TypeAnnotation.ipynb\" target=\"_parent\"><img src=\"https://colab.research.google.com/assets/colab-badge.svg\" alt=\"Open In Colab\"/></a>"
      ]
    },
    {
      "cell_type": "markdown",
      "source": [
        "# Files"
      ],
      "metadata": {
        "id": "S-uTgA4ix-Zq"
      }
    },
    {
      "cell_type": "code",
      "execution_count": 65,
      "metadata": {
        "colab": {
          "base_uri": "https://localhost:8080/"
        },
        "id": "rQoxP7dbshTG",
        "outputId": "96a51527-9dca-4303-cfec-852118ae9e95"
      },
      "outputs": [
        {
          "output_type": "stream",
          "name": "stdout",
          "text": [
            "Overwriting myfile.txt\n"
          ]
        }
      ],
      "source": [
        "%%writefile myfile.txt\n",
        "test1\n",
        "test2\n",
        "test3"
      ]
    },
    {
      "cell_type": "code",
      "source": [
        "my_file= open(\"myfile.txt\")# eğer kodu yazdığım dosya ile oluşturduğum txt dosyam aynı konumda bulunmasaydı tam konumu belirtmeliydim\n",
        "#open yaptıktan sonra işinizi bitirip close etmeyi unutmayın"
      ],
      "metadata": {
        "id": "-GpEXgiUtJEf"
      },
      "execution_count": 66,
      "outputs": []
    },
    {
      "cell_type": "code",
      "source": [
        "my_file"
      ],
      "metadata": {
        "colab": {
          "base_uri": "https://localhost:8080/"
        },
        "id": "Sg-Z3HG2t1Aw",
        "outputId": "5fe3f198-d43c-494f-d5f7-1e8422874c88"
      },
      "execution_count": 67,
      "outputs": [
        {
          "output_type": "execute_result",
          "data": {
            "text/plain": [
              "<_io.TextIOWrapper name='myfile.txt' mode='r' encoding='utf-8'>"
            ]
          },
          "metadata": {},
          "execution_count": 67
        }
      ]
    },
    {
      "cell_type": "code",
      "source": [
        "my_file.read()"
      ],
      "metadata": {
        "colab": {
          "base_uri": "https://localhost:8080/",
          "height": 36
        },
        "id": "C9w9fuR6t20I",
        "outputId": "6d9f24df-3cb4-4091-a1cf-d4d67a93e0e0"
      },
      "execution_count": 68,
      "outputs": [
        {
          "output_type": "execute_result",
          "data": {
            "text/plain": [
              "'test1 \\ntest2\\ntest3\\n'"
            ],
            "application/vnd.google.colaboratory.intrinsic+json": {
              "type": "string"
            }
          },
          "metadata": {},
          "execution_count": 68
        }
      ]
    },
    {
      "cell_type": "code",
      "source": [
        "my_file.read()# hiçbir şey dönmedi çünkü ilk read yaptığımızda dosyayı okudu ve en sonda kaldı"
      ],
      "metadata": {
        "colab": {
          "base_uri": "https://localhost:8080/",
          "height": 36
        },
        "id": "bV4TeYjfuMEO",
        "outputId": "5935f5e5-a48b-4506-bf1a-6014f2eea75a"
      },
      "execution_count": 69,
      "outputs": [
        {
          "output_type": "execute_result",
          "data": {
            "text/plain": [
              "''"
            ],
            "application/vnd.google.colaboratory.intrinsic+json": {
              "type": "string"
            }
          },
          "metadata": {},
          "execution_count": 69
        }
      ]
    },
    {
      "cell_type": "code",
      "source": [
        "my_file.seek(0)#bu fonksiyon sayesinde başa alabiliyoruz sonra tekrar okuyabiliriz"
      ],
      "metadata": {
        "colab": {
          "base_uri": "https://localhost:8080/"
        },
        "id": "1uRZ0HS6ue0s",
        "outputId": "364a5237-e44b-43b9-a86e-92649a86090d"
      },
      "execution_count": 70,
      "outputs": [
        {
          "output_type": "execute_result",
          "data": {
            "text/plain": [
              "0"
            ]
          },
          "metadata": {},
          "execution_count": 70
        }
      ]
    },
    {
      "cell_type": "code",
      "source": [
        "my_file.read()"
      ],
      "metadata": {
        "colab": {
          "base_uri": "https://localhost:8080/",
          "height": 36
        },
        "id": "P8rEN_stuol0",
        "outputId": "c483fd70-f04e-48e3-e78e-ac9a07689b24"
      },
      "execution_count": 71,
      "outputs": [
        {
          "output_type": "execute_result",
          "data": {
            "text/plain": [
              "'test1 \\ntest2\\ntest3\\n'"
            ],
            "application/vnd.google.colaboratory.intrinsic+json": {
              "type": "string"
            }
          },
          "metadata": {},
          "execution_count": 71
        }
      ]
    },
    {
      "cell_type": "code",
      "source": [
        "my_file.close()# close yapmayı unutmayın"
      ],
      "metadata": {
        "id": "Rt3LGWbXurYt"
      },
      "execution_count": 72,
      "outputs": []
    },
    {
      "cell_type": "markdown",
      "source": [
        "with keyword ü ile bu işlemleri daha pratik ve güvenli yapabilirsiniz\n"
      ],
      "metadata": {
        "id": "U7UrqUOjwBqG"
      }
    },
    {
      "cell_type": "code",
      "source": [
        "with open(\"myfile.txt\") as my_new_file:\n",
        "  contents= my_new_file.read()"
      ],
      "metadata": {
        "id": "RKyse4SsvFug"
      },
      "execution_count": 73,
      "outputs": []
    },
    {
      "cell_type": "code",
      "source": [
        "contents"
      ],
      "metadata": {
        "colab": {
          "base_uri": "https://localhost:8080/",
          "height": 36
        },
        "id": "u2UXeQuiwNr5",
        "outputId": "0b8db016-f32f-44d1-c25a-184d6ea75344"
      },
      "execution_count": 74,
      "outputs": [
        {
          "output_type": "execute_result",
          "data": {
            "text/plain": [
              "'test1 \\ntest2\\ntest3\\n'"
            ],
            "application/vnd.google.colaboratory.intrinsic+json": {
              "type": "string"
            }
          },
          "metadata": {},
          "execution_count": 74
        }
      ]
    },
    {
      "cell_type": "code",
      "source": [
        "with open(\"myfile.txt\",mode=\"w\") as myfile: #önceki yazıları sildi o yüzden dikkatli kullanılmalıdır\n",
        "  contents= myfile.write(\"test4\")"
      ],
      "metadata": {
        "id": "uG7ZdlhFwOrx"
      },
      "execution_count": 75,
      "outputs": []
    },
    {
      "cell_type": "code",
      "source": [
        "with open(\"myfile.txt\",mode=\"r\") as myfile:\n",
        "  contents= myfile.read()"
      ],
      "metadata": {
        "id": "aVDD3GGTwXNQ"
      },
      "execution_count": 76,
      "outputs": []
    },
    {
      "cell_type": "code",
      "source": [
        "contents"
      ],
      "metadata": {
        "colab": {
          "base_uri": "https://localhost:8080/",
          "height": 36
        },
        "id": "v1_oyO7ywbiH",
        "outputId": "6579e872-5485-49da-f320-9ca36427b20b"
      },
      "execution_count": 77,
      "outputs": [
        {
          "output_type": "execute_result",
          "data": {
            "text/plain": [
              "'test4'"
            ],
            "application/vnd.google.colaboratory.intrinsic+json": {
              "type": "string"
            }
          },
          "metadata": {},
          "execution_count": 77
        }
      ]
    },
    {
      "cell_type": "code",
      "source": [
        "with open(\"myfile.txt\",mode=\"a\") as myfile: # \"w\"==>write \"r\"==>read  \"a\"==>append\n",
        "  contents= myfile.write(\"\\ntest5\")"
      ],
      "metadata": {
        "id": "oTWYGVPJwchu"
      },
      "execution_count": 78,
      "outputs": []
    },
    {
      "cell_type": "code",
      "source": [
        "with open(\"myfile.txt\",mode=\"r\") as myfile:\n",
        "  contents= myfile.read()"
      ],
      "metadata": {
        "id": "eRofrxTjw_-0"
      },
      "execution_count": 79,
      "outputs": []
    },
    {
      "cell_type": "code",
      "source": [
        "contents"
      ],
      "metadata": {
        "colab": {
          "base_uri": "https://localhost:8080/",
          "height": 36
        },
        "id": "K96ZYZJzxGxf",
        "outputId": "dc7c6c3d-6195-4e16-f664-3462b45bd877"
      },
      "execution_count": 80,
      "outputs": [
        {
          "output_type": "execute_result",
          "data": {
            "text/plain": [
              "'test4\\ntest5'"
            ],
            "application/vnd.google.colaboratory.intrinsic+json": {
              "type": "string"
            }
          },
          "metadata": {},
          "execution_count": 80
        }
      ]
    },
    {
      "cell_type": "code",
      "source": [],
      "metadata": {
        "id": "PS9g4Ju6xHlu"
      },
      "execution_count": 80,
      "outputs": []
    },
    {
      "cell_type": "markdown",
      "source": [
        "# Type Annotation"
      ],
      "metadata": {
        "id": "wfFxEAkkyDDU"
      }
    },
    {
      "cell_type": "markdown",
      "source": [
        "python da normalde değişkenlerin type atanmazdı ama yeni güncel haliyle zorunluluk olmasa da veri typleri atanabiliyor ama örneğin string olan bir değere siz integer olarak typeını belirlediniz sistem onu yine olması gereken type yanı string olarak kabul ediyor"
      ],
      "metadata": {
        "id": "5aRy39Qf8cyg"
      }
    },
    {
      "cell_type": "code",
      "source": [
        "my_string : str= \"ALİ\"\n",
        "my_integer : int =20\n",
        "my_boolm : bool =True"
      ],
      "metadata": {
        "id": "qKVeBG3YyKqn"
      },
      "execution_count": 81,
      "outputs": []
    },
    {
      "cell_type": "code",
      "source": [
        "def adding(x:int,y:int)->int:\n",
        "  return x+y"
      ],
      "metadata": {
        "id": "N0awRpHI9B6C"
      },
      "execution_count": 82,
      "outputs": []
    },
    {
      "cell_type": "code",
      "source": [
        "adding(1,5)"
      ],
      "metadata": {
        "colab": {
          "base_uri": "https://localhost:8080/"
        },
        "id": "Owr7BaYK9GDV",
        "outputId": "d5024a53-03ed-47a1-8da8-c789229452bf"
      },
      "execution_count": 83,
      "outputs": [
        {
          "output_type": "execute_result",
          "data": {
            "text/plain": [
              "6"
            ]
          },
          "metadata": {},
          "execution_count": 83
        }
      ]
    },
    {
      "cell_type": "code",
      "source": [
        "def process_value(value: int | str) ->str: #\"|\" işareti ya da anlamı veriyor\n",
        "  if isinstance(value,int):#instance demek burası için yani value int mı diye sorgulatıyır\n",
        "    return f\"processed integer {value}\"\n",
        "  else:\n",
        "    return f\"processed string {value}\""
      ],
      "metadata": {
        "id": "cMzmmyz39JiR"
      },
      "execution_count": 84,
      "outputs": []
    },
    {
      "cell_type": "code",
      "source": [
        "process_value(8)"
      ],
      "metadata": {
        "colab": {
          "base_uri": "https://localhost:8080/",
          "height": 36
        },
        "id": "pNqs64Ll-Q5K",
        "outputId": "e490b6fa-d443-4d1d-8280-68258b8948aa"
      },
      "execution_count": 85,
      "outputs": [
        {
          "output_type": "execute_result",
          "data": {
            "text/plain": [
              "'processed integer 8'"
            ],
            "application/vnd.google.colaboratory.intrinsic+json": {
              "type": "string"
            }
          },
          "metadata": {},
          "execution_count": 85
        }
      ]
    },
    {
      "cell_type": "code",
      "source": [
        "process_value(\"ali\")"
      ],
      "metadata": {
        "colab": {
          "base_uri": "https://localhost:8080/",
          "height": 36
        },
        "id": "-RahlkQa-UpS",
        "outputId": "5499f6aa-318d-4e50-a71b-d49727c61c72"
      },
      "execution_count": 86,
      "outputs": [
        {
          "output_type": "execute_result",
          "data": {
            "text/plain": [
              "'processed string ali'"
            ],
            "application/vnd.google.colaboratory.intrinsic+json": {
              "type": "string"
            }
          },
          "metadata": {},
          "execution_count": 86
        }
      ]
    },
    {
      "cell_type": "code",
      "source": [
        "from typing import List\n",
        "\n",
        "def summation(numbers: List[int]) -> int:\n",
        "  return sum(numbers)"
      ],
      "metadata": {
        "id": "7rvTWkUI-XjX"
      },
      "execution_count": 87,
      "outputs": []
    },
    {
      "cell_type": "code",
      "source": [
        "summation(numbers=[1,2,3,4,5])# numbers=[1,2,3,4,5]\n",
        "                              # summation(numbers)  şeklinde de olabilirdi"
      ],
      "metadata": {
        "colab": {
          "base_uri": "https://localhost:8080/"
        },
        "id": "KGnTQX5q-_wS",
        "outputId": "ad0485d4-29c4-43b8-f3ff-3a867005d575"
      },
      "execution_count": 88,
      "outputs": [
        {
          "output_type": "execute_result",
          "data": {
            "text/plain": [
              "15"
            ]
          },
          "metadata": {},
          "execution_count": 88
        }
      ]
    },
    {
      "cell_type": "code",
      "source": [],
      "metadata": {
        "id": "hs0fDIYv_F__"
      },
      "execution_count": 88,
      "outputs": []
    }
  ]
}