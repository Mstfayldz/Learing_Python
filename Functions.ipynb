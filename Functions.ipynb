{
  "nbformat": 4,
  "nbformat_minor": 0,
  "metadata": {
    "colab": {
      "provenance": [],
      "authorship_tag": "ABX9TyMs6/PQ3ZBEXPn4ebJamJQH",
      "include_colab_link": true
    },
    "kernelspec": {
      "name": "python3",
      "display_name": "Python 3"
    },
    "language_info": {
      "name": "python"
    }
  },
  "cells": [
    {
      "cell_type": "markdown",
      "metadata": {
        "id": "view-in-github",
        "colab_type": "text"
      },
      "source": [
        "<a href=\"https://colab.research.google.com/github/Mstfayldz/Learing_Python/blob/master/Functions.ipynb\" target=\"_parent\"><img src=\"https://colab.research.google.com/assets/colab-badge.svg\" alt=\"Open In Colab\"/></a>"
      ]
    },
    {
      "cell_type": "markdown",
      "source": [
        "# Fonksiyonlar Giriş\n"
      ],
      "metadata": {
        "id": "9r5wugzDyvAK"
      }
    },
    {
      "cell_type": "code",
      "source": [
        "def hello_python():\n",
        "  print(\"hello\")\n",
        "  print(\"python\")"
      ],
      "metadata": {
        "id": "VtVsKWXcy02x"
      },
      "execution_count": 58,
      "outputs": []
    },
    {
      "cell_type": "code",
      "source": [
        "hello_python()"
      ],
      "metadata": {
        "colab": {
          "base_uri": "https://localhost:8080/"
        },
        "id": "2TD-6qn2zsFH",
        "outputId": "1d152c88-b79a-47cd-f11e-cbfa91b8afb6"
      },
      "execution_count": 59,
      "outputs": [
        {
          "output_type": "stream",
          "name": "stdout",
          "text": [
            "hello\n",
            "python\n"
          ]
        }
      ]
    },
    {
      "cell_type": "code",
      "source": [
        "#input==>Fonksiyon senden parametre ister"
      ],
      "metadata": {
        "id": "i3D-HNqNzutq"
      },
      "execution_count": 60,
      "outputs": []
    },
    {
      "cell_type": "code",
      "source": [
        "def hello_name(name):\n",
        "  print(\"hello\")\n",
        "  print(name)"
      ],
      "metadata": {
        "id": "jTrgEoom0Nkn"
      },
      "execution_count": 61,
      "outputs": []
    },
    {
      "cell_type": "code",
      "source": [
        "hello_name(\"mustafa\")"
      ],
      "metadata": {
        "colab": {
          "base_uri": "https://localhost:8080/"
        },
        "id": "6gPceCtw0V1W",
        "outputId": "79ebb709-7350-4e44-a356-455a31b7a422"
      },
      "execution_count": 62,
      "outputs": [
        {
          "output_type": "stream",
          "name": "stdout",
          "text": [
            "hello\n",
            "mustafa\n"
          ]
        }
      ]
    },
    {
      "cell_type": "code",
      "source": [
        "hello_name(\"python\")"
      ],
      "metadata": {
        "colab": {
          "base_uri": "https://localhost:8080/"
        },
        "id": "akN8polp0ZRa",
        "outputId": "6a55e93f-da43-40a6-e627-c6c809832119"
      },
      "execution_count": 63,
      "outputs": [
        {
          "output_type": "stream",
          "name": "stdout",
          "text": [
            "hello\n",
            "python\n"
          ]
        }
      ]
    },
    {
      "cell_type": "code",
      "source": [
        "def sum_two_number(a,b):\n",
        "  print(a+b)"
      ],
      "metadata": {
        "id": "wtR65k8L0mHW"
      },
      "execution_count": 64,
      "outputs": []
    },
    {
      "cell_type": "code",
      "source": [
        "sum_two_number(5,4)"
      ],
      "metadata": {
        "colab": {
          "base_uri": "https://localhost:8080/"
        },
        "id": "BNrdl6t_01bJ",
        "outputId": "5163e86e-7f34-4483-93ca-4298e51ce406"
      },
      "execution_count": 65,
      "outputs": [
        {
          "output_type": "stream",
          "name": "stdout",
          "text": [
            "9\n"
          ]
        }
      ]
    },
    {
      "cell_type": "code",
      "source": [
        "# input isteyen fonksiyona default bir değer atayabilirsiniz bu sayede parametre girmediğiniz zmana da kodunuz çalışır\n"
      ],
      "metadata": {
        "id": "r-HucBUW04cj"
      },
      "execution_count": 66,
      "outputs": []
    },
    {
      "cell_type": "code",
      "source": [
        "def hello_surname(surname=\"AYYILDIZ\"):\n",
        "  print(\"hello\")\n",
        "  print(surname)"
      ],
      "metadata": {
        "id": "znBkNSMM1VZr"
      },
      "execution_count": 67,
      "outputs": []
    },
    {
      "cell_type": "code",
      "source": [
        "hello_surname(\"Karahan\")"
      ],
      "metadata": {
        "colab": {
          "base_uri": "https://localhost:8080/"
        },
        "id": "Ip944Mnw1hYP",
        "outputId": "93383a44-c14e-4510-ae4c-1a69d36db582"
      },
      "execution_count": 68,
      "outputs": [
        {
          "output_type": "stream",
          "name": "stdout",
          "text": [
            "hello\n",
            "Karahan\n"
          ]
        }
      ]
    },
    {
      "cell_type": "code",
      "source": [
        "hello_surname()"
      ],
      "metadata": {
        "colab": {
          "base_uri": "https://localhost:8080/"
        },
        "id": "awcqkmYU1mJz",
        "outputId": "5c78096f-a9c9-4111-90e8-a9d8152f61c6"
      },
      "execution_count": 69,
      "outputs": [
        {
          "output_type": "stream",
          "name": "stdout",
          "text": [
            "hello\n",
            "AYYILDIZ\n"
          ]
        }
      ]
    },
    {
      "cell_type": "code",
      "source": [
        "#!!!!RETURN"
      ],
      "metadata": {
        "id": "5e2IbTPB1nys"
      },
      "execution_count": 70,
      "outputs": []
    },
    {
      "cell_type": "code",
      "source": [
        "def summation(num1,num2,num3):\n",
        "  return num1+num2+num3"
      ],
      "metadata": {
        "id": "TL8jNCTI14Go"
      },
      "execution_count": 71,
      "outputs": []
    },
    {
      "cell_type": "code",
      "source": [
        "summation(10,2,8)"
      ],
      "metadata": {
        "colab": {
          "base_uri": "https://localhost:8080/"
        },
        "id": "h56s3nUP894G",
        "outputId": "2ad26a78-8542-433d-98af-e90e1408c026"
      },
      "execution_count": 72,
      "outputs": [
        {
          "output_type": "execute_result",
          "data": {
            "text/plain": [
              "20"
            ]
          },
          "metadata": {},
          "execution_count": 72
        }
      ]
    },
    {
      "cell_type": "code",
      "source": [
        "x=summation(10,2,8)"
      ],
      "metadata": {
        "id": "WZi8LuBg9AD9"
      },
      "execution_count": 73,
      "outputs": []
    },
    {
      "cell_type": "code",
      "source": [
        "print(x)"
      ],
      "metadata": {
        "colab": {
          "base_uri": "https://localhost:8080/"
        },
        "id": "KdwFXi959SBX",
        "outputId": "63fc6a35-a72b-48b3-c4e1-9f0b449d76cb"
      },
      "execution_count": 74,
      "outputs": [
        {
          "output_type": "stream",
          "name": "stdout",
          "text": [
            "20\n"
          ]
        }
      ]
    },
    {
      "cell_type": "code",
      "source": [
        "def even_controls(num):\n",
        "  if num%2==0:\n",
        "    print(num)\n",
        "  else:\n",
        "    print(\"tek sayı\")"
      ],
      "metadata": {
        "id": "jUEeM_wQ9UfM"
      },
      "execution_count": 75,
      "outputs": []
    },
    {
      "cell_type": "code",
      "source": [
        "even_controls(10)"
      ],
      "metadata": {
        "colab": {
          "base_uri": "https://localhost:8080/"
        },
        "id": "iWytI2Kk93CV",
        "outputId": "794cb498-0188-4cfd-a4d6-5568549f114f"
      },
      "execution_count": 76,
      "outputs": [
        {
          "output_type": "stream",
          "name": "stdout",
          "text": [
            "10\n"
          ]
        }
      ]
    },
    {
      "cell_type": "code",
      "source": [
        "even_controls(11)"
      ],
      "metadata": {
        "colab": {
          "base_uri": "https://localhost:8080/"
        },
        "id": "W0WikWkG9552",
        "outputId": "17db2bc8-ea93-4e85-9a9d-4dd49fe16038"
      },
      "execution_count": 77,
      "outputs": [
        {
          "output_type": "stream",
          "name": "stdout",
          "text": [
            "tek sayı\n"
          ]
        }
      ]
    },
    {
      "cell_type": "code",
      "source": [
        "#!!! args/kwargs==>(arguments/key word arguments)"
      ],
      "metadata": {
        "id": "-13TZbTq97nO"
      },
      "execution_count": 78,
      "outputs": []
    },
    {
      "cell_type": "code",
      "source": [
        "# args==>*args olarak fonksiyonda mesala toplama yparken kaç tane sayı toplamak istediğim belirsiz olunca sınırsız sayı alabilmeme olanak sağlıyor\n"
      ],
      "metadata": {
        "id": "EA2B-8eC-iJo"
      },
      "execution_count": 79,
      "outputs": []
    },
    {
      "cell_type": "code",
      "source": [
        "def args_sum(*args):\n",
        "  return sum((args))"
      ],
      "metadata": {
        "id": "1INAf5aS-xO5"
      },
      "execution_count": 80,
      "outputs": []
    },
    {
      "cell_type": "code",
      "source": [
        "args_sum(10,20,30,40,50,60)"
      ],
      "metadata": {
        "colab": {
          "base_uri": "https://localhost:8080/"
        },
        "id": "jn9LCC1l-2iV",
        "outputId": "8e9c006e-f4f8-43aa-c8ec-5f6400c6c15d"
      },
      "execution_count": 81,
      "outputs": [
        {
          "output_type": "execute_result",
          "data": {
            "text/plain": [
              "210"
            ]
          },
          "metadata": {},
          "execution_count": 81
        }
      ]
    },
    {
      "cell_type": "code",
      "source": [
        "#kwargs==> daha çok dictionary kısımlarında key wordler için kullanılır\n",
        "\n"
      ],
      "metadata": {
        "id": "6oTv1cvC-5AW"
      },
      "execution_count": 82,
      "outputs": []
    },
    {
      "cell_type": "code",
      "source": [
        "def kwargs_example(**kwargs):\n",
        "  print(kwargs)"
      ],
      "metadata": {
        "id": "bZporw8r_n-i"
      },
      "execution_count": 83,
      "outputs": []
    },
    {
      "cell_type": "code",
      "source": [
        "kwargs_example(apple=100,banana=150,melon=200)"
      ],
      "metadata": {
        "colab": {
          "base_uri": "https://localhost:8080/"
        },
        "id": "Wz7e5mYN_p4l",
        "outputId": "a456e821-159c-4675-ad4c-359ca27bb92d"
      },
      "execution_count": 84,
      "outputs": [
        {
          "output_type": "stream",
          "name": "stdout",
          "text": [
            "{'apple': 100, 'banana': 150, 'melon': 200}\n"
          ]
        }
      ]
    },
    {
      "cell_type": "markdown",
      "source": [
        "# Pratik Fonksiyonlar"
      ],
      "metadata": {
        "id": "f8avOIkgADE-"
      }
    },
    {
      "cell_type": "code",
      "source": [
        "def divide_number(number):\n",
        "  return number/2"
      ],
      "metadata": {
        "id": "NOIfcqDhAIw6"
      },
      "execution_count": 85,
      "outputs": []
    },
    {
      "cell_type": "code",
      "source": [
        "my_list=[1,2,3,4,5,6,7,8]"
      ],
      "metadata": {
        "id": "qLHmPhepAYNS"
      },
      "execution_count": 86,
      "outputs": []
    },
    {
      "cell_type": "code",
      "source": [
        "my_newList=[]"
      ],
      "metadata": {
        "id": "p82km3bTAbmn"
      },
      "execution_count": 87,
      "outputs": []
    },
    {
      "cell_type": "code",
      "source": [
        "for i in my_list:\n",
        "  my_newList.append(divide_number(i))"
      ],
      "metadata": {
        "id": "R-VLjduHAfb3"
      },
      "execution_count": 88,
      "outputs": []
    },
    {
      "cell_type": "code",
      "source": [
        "my_newList"
      ],
      "metadata": {
        "colab": {
          "base_uri": "https://localhost:8080/"
        },
        "id": "xLcPWSEfAmd1",
        "outputId": "424d52bb-83e2-4665-d761-8347612a7081"
      },
      "execution_count": 89,
      "outputs": [
        {
          "output_type": "execute_result",
          "data": {
            "text/plain": [
              "[0.5, 1.0, 1.5, 2.0, 2.5, 3.0, 3.5, 4.0]"
            ]
          },
          "metadata": {},
          "execution_count": 89
        }
      ]
    },
    {
      "cell_type": "markdown",
      "source": [
        "map"
      ],
      "metadata": {
        "id": "LB8IAB0gBW03"
      }
    },
    {
      "cell_type": "code",
      "source": [
        "# map aslında bir classtır içine obje girdiğinde burdaki obje==>fonksşyon ve üzerinde gezineceğin liste veya başka bir şey olur aldığın listeye eklediğin yanındaki fonksiyonun yaptığı işlemleri yapar\n"
      ],
      "metadata": {
        "id": "vTuUfG22B0BU"
      },
      "execution_count": 90,
      "outputs": []
    },
    {
      "cell_type": "code",
      "source": [
        "help(map)"
      ],
      "metadata": {
        "colab": {
          "base_uri": "https://localhost:8080/"
        },
        "id": "w_jiLmuTBYrP",
        "outputId": "620e3066-3f5f-4cc1-f134-f2f0fd0a7094"
      },
      "execution_count": 91,
      "outputs": [
        {
          "output_type": "stream",
          "name": "stdout",
          "text": [
            "Help on class map in module builtins:\n",
            "\n",
            "class map(object)\n",
            " |  map(func, *iterables) --> map object\n",
            " |\n",
            " |  Make an iterator that computes the function using arguments from\n",
            " |  each of the iterables.  Stops when the shortest iterable is exhausted.\n",
            " |\n",
            " |  Methods defined here:\n",
            " |\n",
            " |  __getattribute__(self, name, /)\n",
            " |      Return getattr(self, name).\n",
            " |\n",
            " |  __iter__(self, /)\n",
            " |      Implement iter(self).\n",
            " |\n",
            " |  __next__(self, /)\n",
            " |      Implement next(self).\n",
            " |\n",
            " |  __reduce__(...)\n",
            " |      Return state information for pickling.\n",
            " |\n",
            " |  ----------------------------------------------------------------------\n",
            " |  Static methods defined here:\n",
            " |\n",
            " |  __new__(*args, **kwargs)\n",
            " |      Create and return a new object.  See help(type) for accurate signature.\n",
            "\n"
          ]
        }
      ]
    },
    {
      "cell_type": "code",
      "source": [
        "map(divide_number,my_list)"
      ],
      "metadata": {
        "colab": {
          "base_uri": "https://localhost:8080/"
        },
        "id": "IKh5CW4-BsVP",
        "outputId": "dd01c175-1d8a-4a49-ca86-870e58d4eb06"
      },
      "execution_count": 92,
      "outputs": [
        {
          "output_type": "execute_result",
          "data": {
            "text/plain": [
              "<map at 0x7db47f601420>"
            ]
          },
          "metadata": {},
          "execution_count": 92
        }
      ]
    },
    {
      "cell_type": "code",
      "source": [
        "list(map(divide_number,my_list))"
      ],
      "metadata": {
        "colab": {
          "base_uri": "https://localhost:8080/"
        },
        "id": "BrXwR9NuBwN7",
        "outputId": "456000e0-bc9c-49eb-c2fc-44774a1c7d8e"
      },
      "execution_count": 93,
      "outputs": [
        {
          "output_type": "execute_result",
          "data": {
            "text/plain": [
              "[0.5, 1.0, 1.5, 2.0, 2.5, 3.0, 3.5, 4.0]"
            ]
          },
          "metadata": {},
          "execution_count": 93
        }
      ]
    },
    {
      "cell_type": "code",
      "source": [
        "def control_string(string):\n",
        "  return \"Mustafa\" in string"
      ],
      "metadata": {
        "id": "KdSLtvucByTo"
      },
      "execution_count": 94,
      "outputs": []
    },
    {
      "cell_type": "code",
      "source": [
        "my_string_list=[\"Mustafa\",\"Mustafa AYYILDIZ\",\"Ali\",\"Ali KARADUMAN\"]"
      ],
      "metadata": {
        "id": "4V7Bo5jUCjuO"
      },
      "execution_count": 95,
      "outputs": []
    },
    {
      "cell_type": "code",
      "source": [
        "list(map(control_string,my_string_list))"
      ],
      "metadata": {
        "colab": {
          "base_uri": "https://localhost:8080/"
        },
        "id": "-mfazh0GCt3I",
        "outputId": "e3bf5110-78dd-47d5-cbed-3cb859dc41fb"
      },
      "execution_count": 96,
      "outputs": [
        {
          "output_type": "execute_result",
          "data": {
            "text/plain": [
              "[True, True, False, False]"
            ]
          },
          "metadata": {},
          "execution_count": 96
        }
      ]
    },
    {
      "cell_type": "markdown",
      "source": [
        "Filter"
      ],
      "metadata": {
        "id": "Td7LYq44DDTf"
      }
    },
    {
      "cell_type": "code",
      "source": [
        "# filter fonksiyonu map gibi çalışır fakat içinde çalışan fonksiyonun gereklilklerini yerine getiren parametreleri listesine ekler yani içindeki fonksiyonun koşul bulundurması gerekir\n",
        "\n"
      ],
      "metadata": {
        "id": "AXGAqNo6CxmV"
      },
      "execution_count": 97,
      "outputs": []
    },
    {
      "cell_type": "code",
      "source": [
        "list(filter(control_string,my_string_list))"
      ],
      "metadata": {
        "colab": {
          "base_uri": "https://localhost:8080/"
        },
        "id": "cRvZfndLDS04",
        "outputId": "9590533c-3149-4c7b-f499-f5cb43b12d2d"
      },
      "execution_count": 98,
      "outputs": [
        {
          "output_type": "execute_result",
          "data": {
            "text/plain": [
              "['Mustafa', 'Mustafa AYYILDIZ']"
            ]
          },
          "metadata": {},
          "execution_count": 98
        }
      ]
    },
    {
      "cell_type": "markdown",
      "source": [
        "lambda"
      ],
      "metadata": {
        "id": "YGa-X0_mEVHz"
      }
    },
    {
      "cell_type": "code",
      "source": [
        "#lambda aslında fonksiyon üretmek için kullanılır ama genlde kullanım amacı anlık kullanılması gerekn bir fonksiyon veya çok ihtiyaç duyulmayan ama sadece bir sstırda kullanmamız gereken bir fonksiyon gerekiyora kullanılır"
      ],
      "metadata": {
        "id": "E1ceSBLLDW75"
      },
      "execution_count": 99,
      "outputs": []
    },
    {
      "cell_type": "code",
      "source": [
        "list(map(lambda string:\"Mustafa\" in string,my_string_list))"
      ],
      "metadata": {
        "colab": {
          "base_uri": "https://localhost:8080/"
        },
        "id": "CUFzN2XHDdcz",
        "outputId": "f0bc2d1d-c1b7-4543-e921-f661fc840436"
      },
      "execution_count": 100,
      "outputs": [
        {
          "output_type": "execute_result",
          "data": {
            "text/plain": [
              "[True, True, False, False]"
            ]
          },
          "metadata": {},
          "execution_count": 100
        }
      ]
    },
    {
      "cell_type": "code",
      "source": [
        "#şu şekilde de kullanılabilir\n",
        "lambda_multiplay= lambda num: num*3"
      ],
      "metadata": {
        "id": "Wqu04s04EsIN"
      },
      "execution_count": 101,
      "outputs": []
    },
    {
      "cell_type": "code",
      "source": [
        "lambda_multiplay(20)"
      ],
      "metadata": {
        "id": "IIDR6HbYE_GH",
        "outputId": "718ab8e4-79a1-485d-a389-a396812759b7",
        "colab": {
          "base_uri": "https://localhost:8080/"
        }
      },
      "execution_count": 102,
      "outputs": [
        {
          "output_type": "execute_result",
          "data": {
            "text/plain": [
              "60"
            ]
          },
          "metadata": {},
          "execution_count": 102
        }
      ]
    },
    {
      "cell_type": "markdown",
      "source": [
        "SCOPE"
      ],
      "metadata": {
        "id": "WFn9KBivQCxg"
      }
    },
    {
      "cell_type": "code",
      "source": [
        "x=20\n",
        "def multy(num):\n",
        "  x=5\n",
        "  return num*x"
      ],
      "metadata": {
        "id": "s8DyXVVhFBu5"
      },
      "execution_count": 103,
      "outputs": []
    },
    {
      "cell_type": "code",
      "source": [
        "multy(10)"
      ],
      "metadata": {
        "colab": {
          "base_uri": "https://localhost:8080/"
        },
        "id": "yaCQgkeaQLSG",
        "outputId": "ffb519db-b60b-4abb-89db-56f5d8a44e64"
      },
      "execution_count": 104,
      "outputs": [
        {
          "output_type": "execute_result",
          "data": {
            "text/plain": [
              "50"
            ]
          },
          "metadata": {},
          "execution_count": 104
        }
      ]
    },
    {
      "cell_type": "code",
      "source": [
        "print(x)"
      ],
      "metadata": {
        "colab": {
          "base_uri": "https://localhost:8080/"
        },
        "id": "IyRtJqbKQNQT",
        "outputId": "c0861978-1c73-4e39-fbb2-3b7c58ff9d2c"
      },
      "execution_count": 105,
      "outputs": [
        {
          "output_type": "stream",
          "name": "stdout",
          "text": [
            "20\n"
          ]
        }
      ]
    },
    {
      "cell_type": "markdown",
      "source": [
        "LEGB==>LOCAL ENCLOSİNG GLOBAL BUİLT-IN\n",
        "Sistemi ile hnagi değişkeni alacağına karar veriyor pyhton"
      ],
      "metadata": {
        "id": "ZUmhcJ1FQRNp"
      }
    },
    {
      "cell_type": "code",
      "source": [
        "#Global\n",
        "my_string=\"Mustafa\"\n",
        "\n",
        "#Enclosing\n",
        "def function():\n",
        "  my_string=\"Mustafa 2\"\n",
        "  print(my_string)\n",
        "  #Local\n",
        "  def function2():\n",
        "    my_string=\"Mustafa 3\"\n",
        "    print(my_string)\n",
        "  function2()"
      ],
      "metadata": {
        "id": "eJ2DL_vgQPYk"
      },
      "execution_count": 106,
      "outputs": []
    },
    {
      "cell_type": "code",
      "source": [
        "my_string"
      ],
      "metadata": {
        "colab": {
          "base_uri": "https://localhost:8080/",
          "height": 36
        },
        "id": "oYRKYPtzReW8",
        "outputId": "90f16b37-123d-4de7-d3d6-c5c52779de2f"
      },
      "execution_count": 107,
      "outputs": [
        {
          "output_type": "execute_result",
          "data": {
            "text/plain": [
              "'Mustafa'"
            ],
            "application/vnd.google.colaboratory.intrinsic+json": {
              "type": "string"
            }
          },
          "metadata": {},
          "execution_count": 107
        }
      ]
    },
    {
      "cell_type": "code",
      "source": [
        "function()"
      ],
      "metadata": {
        "colab": {
          "base_uri": "https://localhost:8080/"
        },
        "id": "rejIJ1DfRlph",
        "outputId": "5ed20ff5-e9fa-4ab3-986c-773f7fd62043"
      },
      "execution_count": 108,
      "outputs": [
        {
          "output_type": "stream",
          "name": "stdout",
          "text": [
            "Mustafa 2\n",
            "Mustafa 3\n"
          ]
        }
      ]
    },
    {
      "cell_type": "code",
      "source": [
        "y=10\n",
        "def test(y):\n",
        "  print(y)\n",
        "  y=5\n",
        "  print(y)\n",
        "  return y"
      ],
      "metadata": {
        "id": "kljlTK6kRojn"
      },
      "execution_count": 109,
      "outputs": []
    },
    {
      "cell_type": "code",
      "source": [
        "test(20)"
      ],
      "metadata": {
        "colab": {
          "base_uri": "https://localhost:8080/"
        },
        "id": "1hAd0qAhSuxd",
        "outputId": "04d20555-c8ae-4290-d31e-2e6950b7ceb0"
      },
      "execution_count": 111,
      "outputs": [
        {
          "output_type": "stream",
          "name": "stdout",
          "text": [
            "20\n",
            "5\n"
          ]
        },
        {
          "output_type": "execute_result",
          "data": {
            "text/plain": [
              "5"
            ]
          },
          "metadata": {},
          "execution_count": 111
        }
      ]
    },
    {
      "cell_type": "markdown",
      "source": [
        "Global olan değeri fonksiyonun içinde global olarak değiştirirsek o değişken komple değişmiş olur"
      ],
      "metadata": {
        "id": "FKJqHjQvTB0R"
      }
    },
    {
      "cell_type": "code",
      "source": [
        "x=10\n",
        "def changeX():\n",
        "  global x\n",
        "  x=5\n",
        "  return x"
      ],
      "metadata": {
        "id": "7Ufwh8jJSxag"
      },
      "execution_count": 112,
      "outputs": []
    },
    {
      "cell_type": "code",
      "source": [
        "changeX()"
      ],
      "metadata": {
        "colab": {
          "base_uri": "https://localhost:8080/"
        },
        "id": "nNvHAflqTSbR",
        "outputId": "df82513f-e639-4071-dc1b-147d2938f97d"
      },
      "execution_count": 113,
      "outputs": [
        {
          "output_type": "execute_result",
          "data": {
            "text/plain": [
              "5"
            ]
          },
          "metadata": {},
          "execution_count": 113
        }
      ]
    },
    {
      "cell_type": "code",
      "source": [
        "x"
      ],
      "metadata": {
        "colab": {
          "base_uri": "https://localhost:8080/"
        },
        "id": "CAtJxLmDTVKS",
        "outputId": "753b55a9-27c7-475c-a830-419a123aa33b"
      },
      "execution_count": 114,
      "outputs": [
        {
          "output_type": "execute_result",
          "data": {
            "text/plain": [
              "5"
            ]
          },
          "metadata": {},
          "execution_count": 114
        }
      ]
    },
    {
      "cell_type": "code",
      "source": [],
      "metadata": {
        "id": "vqHaPeYkTWYL"
      },
      "execution_count": null,
      "outputs": []
    }
  ]
}