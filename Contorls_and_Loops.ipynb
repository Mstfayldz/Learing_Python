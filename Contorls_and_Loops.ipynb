{
  "nbformat": 4,
  "nbformat_minor": 0,
  "metadata": {
    "colab": {
      "provenance": [],
      "authorship_tag": "ABX9TyMF1O3CodU0FJoeqfc9HWA6",
      "include_colab_link": true
    },
    "kernelspec": {
      "name": "python3",
      "display_name": "Python 3"
    },
    "language_info": {
      "name": "python"
    }
  },
  "cells": [
    {
      "cell_type": "markdown",
      "metadata": {
        "id": "view-in-github",
        "colab_type": "text"
      },
      "source": [
        "<a href=\"https://colab.research.google.com/github/Mstfayldz/Learing_Python/blob/master/Contorls_and_Loops.ipynb\" target=\"_parent\"><img src=\"https://colab.research.google.com/assets/colab-badge.svg\" alt=\"Open In Colab\"/></a>"
      ]
    },
    {
      "cell_type": "markdown",
      "source": [
        "# COMPARİNG"
      ],
      "metadata": {
        "id": "8TK1Soa4UcOU"
      }
    },
    {
      "cell_type": "code",
      "source": [
        "x=10\n",
        "y=8"
      ],
      "metadata": {
        "id": "iapDKRowUkbh"
      },
      "execution_count": 74,
      "outputs": []
    },
    {
      "cell_type": "code",
      "source": [
        "x ==y\n",
        "#x y ye eşit mi?"
      ],
      "metadata": {
        "colab": {
          "base_uri": "https://localhost:8080/"
        },
        "id": "K6tnVdyoUnK5",
        "outputId": "f6ac5147-b628-4ef2-c6bf-ebc1c93b9840"
      },
      "execution_count": 75,
      "outputs": [
        {
          "output_type": "execute_result",
          "data": {
            "text/plain": [
              "False"
            ]
          },
          "metadata": {},
          "execution_count": 75
        }
      ]
    },
    {
      "cell_type": "code",
      "source": [
        "x!=y\n",
        "#x ye ye eşit değil mi?"
      ],
      "metadata": {
        "colab": {
          "base_uri": "https://localhost:8080/"
        },
        "id": "MOnpRQ1CUuK0",
        "outputId": "921cbd0c-3425-42fd-8cd2-906e34d408b4"
      },
      "execution_count": 76,
      "outputs": [
        {
          "output_type": "execute_result",
          "data": {
            "text/plain": [
              "True"
            ]
          },
          "metadata": {},
          "execution_count": 76
        }
      ]
    },
    {
      "cell_type": "code",
      "source": [
        "x>y and y<x"
      ],
      "metadata": {
        "colab": {
          "base_uri": "https://localhost:8080/"
        },
        "id": "79En_kgYU9EV",
        "outputId": "21b300ee-1604-4fff-a0b0-fc9dd0cf63cd"
      },
      "execution_count": 77,
      "outputs": [
        {
          "output_type": "execute_result",
          "data": {
            "text/plain": [
              "True"
            ]
          },
          "metadata": {},
          "execution_count": 77
        }
      ]
    },
    {
      "cell_type": "code",
      "source": [
        "x<y or x>y"
      ],
      "metadata": {
        "colab": {
          "base_uri": "https://localhost:8080/"
        },
        "id": "S_DYmAXFVAig",
        "outputId": "955207ba-ed94-4d07-8273-a5722e26fbad"
      },
      "execution_count": 78,
      "outputs": [
        {
          "output_type": "execute_result",
          "data": {
            "text/plain": [
              "True"
            ]
          },
          "metadata": {},
          "execution_count": 78
        }
      ]
    },
    {
      "cell_type": "code",
      "source": [
        "not 1==1"
      ],
      "metadata": {
        "colab": {
          "base_uri": "https://localhost:8080/"
        },
        "id": "WEPPdDoAVFy6",
        "outputId": "ffd603d4-3bc0-423c-9ffe-af4303e89a14"
      },
      "execution_count": 79,
      "outputs": [
        {
          "output_type": "execute_result",
          "data": {
            "text/plain": [
              "False"
            ]
          },
          "metadata": {},
          "execution_count": 79
        }
      ]
    },
    {
      "cell_type": "code",
      "source": [
        "not 2==1"
      ],
      "metadata": {
        "colab": {
          "base_uri": "https://localhost:8080/"
        },
        "id": "Djndi_3LVMAS",
        "outputId": "bf6dd7a7-846f-4075-f8ae-0acf4792685a"
      },
      "execution_count": 80,
      "outputs": [
        {
          "output_type": "execute_result",
          "data": {
            "text/plain": [
              "True"
            ]
          },
          "metadata": {},
          "execution_count": 80
        }
      ]
    },
    {
      "cell_type": "code",
      "source": [
        "10 in [10,20,30]"
      ],
      "metadata": {
        "colab": {
          "base_uri": "https://localhost:8080/"
        },
        "id": "IwTvTaEPVQki",
        "outputId": "b52cac1b-4ff0-40c2-cde4-5198ffefe7ec"
      },
      "execution_count": 81,
      "outputs": [
        {
          "output_type": "execute_result",
          "data": {
            "text/plain": [
              "True"
            ]
          },
          "metadata": {},
          "execution_count": 81
        }
      ]
    },
    {
      "cell_type": "code",
      "source": [
        "5 not in [10,20,30]#liste için"
      ],
      "metadata": {
        "colab": {
          "base_uri": "https://localhost:8080/"
        },
        "id": "NXzFRwaEVX-U",
        "outputId": "b7b85bda-8cbf-4f89-d3f9-fc742c9d1c4d"
      },
      "execution_count": 82,
      "outputs": [
        {
          "output_type": "execute_result",
          "data": {
            "text/plain": [
              "True"
            ]
          },
          "metadata": {},
          "execution_count": 82
        }
      ]
    },
    {
      "cell_type": "code",
      "source": [
        "10 in {10,20,30}#set için"
      ],
      "metadata": {
        "colab": {
          "base_uri": "https://localhost:8080/"
        },
        "id": "JazT3XJPVd_R",
        "outputId": "c15d2456-0287-4951-b140-fa68026132f2"
      },
      "execution_count": 83,
      "outputs": [
        {
          "output_type": "execute_result",
          "data": {
            "text/plain": [
              "True"
            ]
          },
          "metadata": {},
          "execution_count": 83
        }
      ]
    },
    {
      "cell_type": "code",
      "source": [
        "my_dictionary={\"a\":10,\"b\":20,\"c\":30}"
      ],
      "metadata": {
        "id": "02-TJWUFVva7"
      },
      "execution_count": 84,
      "outputs": []
    },
    {
      "cell_type": "code",
      "source": [
        "10 in my_dictionary.values()#dictionary için value değerine bakabiliriz veya keys olarak"
      ],
      "metadata": {
        "colab": {
          "base_uri": "https://localhost:8080/"
        },
        "id": "C17TgclVV0Yv",
        "outputId": "1080c643-4413-49d5-e43e-691f3feec870"
      },
      "execution_count": 85,
      "outputs": [
        {
          "output_type": "execute_result",
          "data": {
            "text/plain": [
              "True"
            ]
          },
          "metadata": {},
          "execution_count": 85
        }
      ]
    },
    {
      "cell_type": "code",
      "source": [
        "\"b\" in my_dictionary.keys()"
      ],
      "metadata": {
        "colab": {
          "base_uri": "https://localhost:8080/"
        },
        "id": "psM0_7GaV3Ue",
        "outputId": "2b569b01-2515-41b3-b78f-993abcd5e130"
      },
      "execution_count": 86,
      "outputs": [
        {
          "output_type": "execute_result",
          "data": {
            "text/plain": [
              "True"
            ]
          },
          "metadata": {},
          "execution_count": 86
        }
      ]
    },
    {
      "cell_type": "code",
      "source": [
        "10 in (10,20,30)#tuple"
      ],
      "metadata": {
        "colab": {
          "base_uri": "https://localhost:8080/"
        },
        "id": "mQX3umntWCLl",
        "outputId": "dbb51c0c-8d44-4c0e-ef28-513390427946"
      },
      "execution_count": 87,
      "outputs": [
        {
          "output_type": "execute_result",
          "data": {
            "text/plain": [
              "True"
            ]
          },
          "metadata": {},
          "execution_count": 87
        }
      ]
    },
    {
      "cell_type": "markdown",
      "source": [
        "# IF CONTROLS"
      ],
      "metadata": {
        "id": "uMPtFy6LWO4O"
      }
    },
    {
      "cell_type": "code",
      "source": [
        "my_hero=\"Batman\""
      ],
      "metadata": {
        "id": "rbuhfEzdWUFJ"
      },
      "execution_count": 88,
      "outputs": []
    },
    {
      "cell_type": "code",
      "source": [
        "if my_hero==\"Batman\":\n",
        "  #identation==> if veya başka blokların altında bloğa dahil olan kısım bir tab içeridedir\n",
        "  print(\"Batman is hero\")"
      ],
      "metadata": {
        "colab": {
          "base_uri": "https://localhost:8080/"
        },
        "id": "8MFwO2QVWwTr",
        "outputId": "84584aaf-19c5-4030-b8a8-2c07fe4f6f0d"
      },
      "execution_count": 89,
      "outputs": [
        {
          "output_type": "stream",
          "name": "stdout",
          "text": [
            "Batman is hero\n"
          ]
        }
      ]
    },
    {
      "cell_type": "code",
      "source": [
        "my_superhero=input()"
      ],
      "metadata": {
        "colab": {
          "base_uri": "https://localhost:8080/"
        },
        "id": "XeXADDdlXEG1",
        "outputId": "bcf871c6-0865-4f57-d465-0734d4e7eee0"
      },
      "execution_count": 90,
      "outputs": [
        {
          "name": "stdout",
          "output_type": "stream",
          "text": [
            "superman\n"
          ]
        }
      ]
    },
    {
      "cell_type": "code",
      "source": [
        "if my_superhero==\"Batman\":\n",
        "  print(\"batman is superhero\")\n",
        "elif my_superhero==\"Superman\":\n",
        "  print(\"superman is superhero\")\n",
        "elif my_superhero==\"Ironman\":\n",
        "  print(\"ironman is superhero\")\n",
        "else:\n",
        "  print(\":(\")"
      ],
      "metadata": {
        "colab": {
          "base_uri": "https://localhost:8080/"
        },
        "id": "Bk4DEH7XXc8f",
        "outputId": "44872e2e-477c-497b-fda3-5649f6394446"
      },
      "execution_count": 91,
      "outputs": [
        {
          "output_type": "stream",
          "name": "stdout",
          "text": [
            ":(\n"
          ]
        }
      ]
    },
    {
      "cell_type": "code",
      "source": [
        "my_age=int(input())"
      ],
      "metadata": {
        "colab": {
          "base_uri": "https://localhost:8080/"
        },
        "id": "lDseQQIHYB5P",
        "outputId": "bfcc9944-5b61-4fce-bb19-e998664bc260"
      },
      "execution_count": 92,
      "outputs": [
        {
          "name": "stdout",
          "output_type": "stream",
          "text": [
            "19\n"
          ]
        }
      ]
    },
    {
      "cell_type": "code",
      "source": [
        "if my_age<=18:\n",
        "  print(\"you cant drive\")\n",
        "elif my_age>18 and my_age<=50:\n",
        "  print(\"you can drive\")\n",
        "else:\n",
        "  print(\"you cant drive\")"
      ],
      "metadata": {
        "colab": {
          "base_uri": "https://localhost:8080/"
        },
        "id": "HwDddARKYFqH",
        "outputId": "3d3581ed-fedf-443f-9fc7-b234f4b9e184"
      },
      "execution_count": 93,
      "outputs": [
        {
          "output_type": "stream",
          "name": "stdout",
          "text": [
            "you can drive\n"
          ]
        }
      ]
    },
    {
      "cell_type": "code",
      "source": [
        "my_hero=\"Superman\""
      ],
      "metadata": {
        "id": "37Q6LCCUYeAJ"
      },
      "execution_count": 94,
      "outputs": []
    },
    {
      "cell_type": "code",
      "source": [
        "my_heroList=[\"Batman\",\"Superman\",\"Ironman\",\"Aquaman\"]"
      ],
      "metadata": {
        "id": "xehv-gYPYjNp"
      },
      "execution_count": 95,
      "outputs": []
    },
    {
      "cell_type": "code",
      "source": [
        "if my_hero in my_heroList:\n",
        "  print(\"hero in list\")\n",
        "else:\n",
        "  print(\"hero not in list\")"
      ],
      "metadata": {
        "colab": {
          "base_uri": "https://localhost:8080/"
        },
        "id": "xrgUF9rpYpgo",
        "outputId": "0e7f937c-8b69-4f03-baf8-efe88e36b951"
      },
      "execution_count": 96,
      "outputs": [
        {
          "output_type": "stream",
          "name": "stdout",
          "text": [
            "hero in list\n"
          ]
        }
      ]
    },
    {
      "cell_type": "markdown",
      "source": [
        "# LOOPS(for and while loops)"
      ],
      "metadata": {
        "id": "nrCr86PtY7yl"
      }
    },
    {
      "cell_type": "code",
      "source": [
        "#for loop"
      ],
      "metadata": {
        "id": "LJPhkVr3Y-ak"
      },
      "execution_count": 97,
      "outputs": []
    },
    {
      "cell_type": "code",
      "source": [
        "my_list=[10,20,30,40,50]"
      ],
      "metadata": {
        "id": "TRRdRnO6ZR4y"
      },
      "execution_count": 98,
      "outputs": []
    },
    {
      "cell_type": "code",
      "source": [
        "for num in my_list:#for dan sonraki kısım bir tab içeride olmalıdır\n",
        "  print(num*3)"
      ],
      "metadata": {
        "colab": {
          "base_uri": "https://localhost:8080/"
        },
        "id": "_duddK0cZlkl",
        "outputId": "e92d370a-cb5e-472e-95ef-6802ba6aeea6"
      },
      "execution_count": 103,
      "outputs": [
        {
          "output_type": "stream",
          "name": "stdout",
          "text": [
            "30\n",
            "60\n",
            "90\n",
            "120\n",
            "150\n"
          ]
        }
      ]
    },
    {
      "cell_type": "code",
      "source": [
        "my_newList=[10,20,30,40,50,60,70,80,90,100]"
      ],
      "metadata": {
        "id": "h9Q8F-JaZqXf"
      },
      "execution_count": 104,
      "outputs": []
    },
    {
      "cell_type": "code",
      "source": [
        "for num in my_newList:\n",
        "  if num % 6==0:\n",
        "    print(num,\"is divided 6\")\n",
        "  else:\n",
        "    print(num,\"is not divided 6\")"
      ],
      "metadata": {
        "colab": {
          "base_uri": "https://localhost:8080/"
        },
        "id": "xX6fMtuFaaAi",
        "outputId": "e95b96bb-70fc-4ed8-820e-81b8094ec9e1"
      },
      "execution_count": 110,
      "outputs": [
        {
          "output_type": "stream",
          "name": "stdout",
          "text": [
            "10 is not divided 6\n",
            "20 is not divided 6\n",
            "30 is divided 6\n",
            "40 is not divided 6\n",
            "50 is not divided 6\n",
            "60 is divided 6\n",
            "70 is not divided 6\n",
            "80 is not divided 6\n",
            "90 is divided 6\n",
            "100 is not divided 6\n"
          ]
        }
      ]
    },
    {
      "cell_type": "code",
      "source": [
        "my_string=\"Mustafa AYYILDIZ\""
      ],
      "metadata": {
        "id": "cdQqVmgZaqm5"
      },
      "execution_count": 111,
      "outputs": []
    },
    {
      "cell_type": "code",
      "source": [
        "for c in my_string:\n",
        "    print(c)"
      ],
      "metadata": {
        "colab": {
          "base_uri": "https://localhost:8080/"
        },
        "id": "HxjN8cGjnDdF",
        "outputId": "fe8d849c-777e-4a68-d05b-e3a2244fee7f"
      },
      "execution_count": 113,
      "outputs": [
        {
          "output_type": "stream",
          "name": "stdout",
          "text": [
            "M\n",
            "u\n",
            "s\n",
            "t\n",
            "a\n",
            "f\n",
            "a\n",
            " \n",
            "A\n",
            "Y\n",
            "Y\n",
            "I\n",
            "L\n",
            "D\n",
            "I\n",
            "Z\n"
          ]
        }
      ]
    },
    {
      "cell_type": "code",
      "source": [
        "myList=[(\"a\",\"b\"),(\"c\",\"d\"),(\"e\",\"f\"),(\"g\",\"h\")]"
      ],
      "metadata": {
        "id": "AgwrJxr4nT0g"
      },
      "execution_count": 115,
      "outputs": []
    },
    {
      "cell_type": "code",
      "source": [
        "for (x,y) in myList:\n",
        "  print(x)\n",
        "  print(y)"
      ],
      "metadata": {
        "colab": {
          "base_uri": "https://localhost:8080/"
        },
        "id": "g_N2Ra7BoCLx",
        "outputId": "a734c059-b027-4405-9454-0c3167f1e575"
      },
      "execution_count": 117,
      "outputs": [
        {
          "output_type": "stream",
          "name": "stdout",
          "text": [
            "a\n",
            "b\n",
            "c\n",
            "d\n",
            "e\n",
            "f\n",
            "g\n",
            "h\n"
          ]
        }
      ]
    },
    {
      "cell_type": "code",
      "source": [
        "my_tupleList=[(1,2,3),(4,5,6),(7,8,9)]"
      ],
      "metadata": {
        "id": "UHWyDLTvoVGH"
      },
      "execution_count": 118,
      "outputs": []
    },
    {
      "cell_type": "code",
      "source": [
        "for (a,b,c) in my_tupleList:\n",
        "  print(b)"
      ],
      "metadata": {
        "colab": {
          "base_uri": "https://localhost:8080/"
        },
        "id": "DgBC2hFromDx",
        "outputId": "77478bef-f0e5-43f5-a464-37d761d10fba"
      },
      "execution_count": 119,
      "outputs": [
        {
          "output_type": "stream",
          "name": "stdout",
          "text": [
            "2\n",
            "5\n",
            "8\n"
          ]
        }
      ]
    },
    {
      "cell_type": "code",
      "source": [
        "my_set={1,2,3,4,5,6}"
      ],
      "metadata": {
        "id": "bemSwiWXos9I"
      },
      "execution_count": 120,
      "outputs": []
    },
    {
      "cell_type": "code",
      "source": [
        "for s in my_set:\n",
        "  print(s)"
      ],
      "metadata": {
        "colab": {
          "base_uri": "https://localhost:8080/"
        },
        "id": "zxSOLWlsqmKu",
        "outputId": "99af1856-80eb-4221-a9eb-e8f6c4560448"
      },
      "execution_count": 121,
      "outputs": [
        {
          "output_type": "stream",
          "name": "stdout",
          "text": [
            "1\n",
            "2\n",
            "3\n",
            "4\n",
            "5\n",
            "6\n"
          ]
        }
      ]
    },
    {
      "cell_type": "code",
      "source": [
        "my_dictionary={\"k1\":1,\"k2\":2,\"k3\":3,\"k4\":4}"
      ],
      "metadata": {
        "id": "kn87ozXFqqOO"
      },
      "execution_count": 122,
      "outputs": []
    },
    {
      "cell_type": "code",
      "source": [
        "for k in my_dictionary:\n",
        "  print(k)"
      ],
      "metadata": {
        "colab": {
          "base_uri": "https://localhost:8080/"
        },
        "id": "jmg8wuTJq1B-",
        "outputId": "d826c4bf-eaea-4584-f630-6b779e1b744f"
      },
      "execution_count": 125,
      "outputs": [
        {
          "output_type": "stream",
          "name": "stdout",
          "text": [
            "k1\n",
            "k2\n",
            "k3\n",
            "k4\n"
          ]
        }
      ]
    },
    {
      "cell_type": "code",
      "source": [
        "for (key,value) in my_dictionary.items():\n",
        "  print(value)"
      ],
      "metadata": {
        "colab": {
          "base_uri": "https://localhost:8080/"
        },
        "id": "R-0ABOzMq7Rd",
        "outputId": "9430eb2c-d2ec-4100-ca6f-167f018b5eca"
      },
      "execution_count": 127,
      "outputs": [
        {
          "output_type": "stream",
          "name": "stdout",
          "text": [
            "1\n",
            "2\n",
            "3\n",
            "4\n"
          ]
        }
      ]
    },
    {
      "cell_type": "code",
      "source": [
        "for v in my_dictionary.values():\n",
        "  print(v)"
      ],
      "metadata": {
        "colab": {
          "base_uri": "https://localhost:8080/"
        },
        "id": "Ok_XkitdrOkj",
        "outputId": "e349e54b-6371-4d82-c7ce-cada75eea53b"
      },
      "execution_count": 128,
      "outputs": [
        {
          "output_type": "stream",
          "name": "stdout",
          "text": [
            "1\n",
            "2\n",
            "3\n",
            "4\n"
          ]
        }
      ]
    },
    {
      "cell_type": "code",
      "source": [
        "#continue-break-pass"
      ],
      "metadata": {
        "id": "HNBpzT9rrdyI"
      },
      "execution_count": 129,
      "outputs": []
    },
    {
      "cell_type": "code",
      "source": [
        "my_list=[10,20,30,40,50,60,70]"
      ],
      "metadata": {
        "id": "wVBqyoIErr3a"
      },
      "execution_count": 130,
      "outputs": []
    },
    {
      "cell_type": "code",
      "source": [
        "#break kod bloğunu krar ve koşul sağlandığında kod bloğundan çıkar"
      ],
      "metadata": {
        "id": "S_-ca4wrtDQq"
      },
      "execution_count": null,
      "outputs": []
    },
    {
      "cell_type": "code",
      "source": [
        "for num in my_list:\n",
        "  print(num)\n",
        "  if num ==40:\n",
        "    print(\"found\")\n",
        "    break"
      ],
      "metadata": {
        "colab": {
          "base_uri": "https://localhost:8080/"
        },
        "id": "uOsnEqBNsBax",
        "outputId": "7d110d2e-1e22-4ef9-a7d0-3aed4e455e88"
      },
      "execution_count": 131,
      "outputs": [
        {
          "output_type": "stream",
          "name": "stdout",
          "text": [
            "10\n",
            "20\n",
            "30\n",
            "40\n",
            "found\n"
          ]
        }
      ]
    },
    {
      "cell_type": "code",
      "source": [
        "for num in my_list:\n",
        "  print(num)\n",
        "  if num ==40:\n",
        "     continue\n",
        "     print(\"found\")\n",
        ""
      ],
      "metadata": {
        "colab": {
          "base_uri": "https://localhost:8080/"
        },
        "id": "LaWVXyC1sODD",
        "outputId": "944ae9bb-231c-44e8-bc1d-48f7e3ffd333"
      },
      "execution_count": 135,
      "outputs": [
        {
          "output_type": "stream",
          "name": "stdout",
          "text": [
            "10\n",
            "20\n",
            "30\n",
            "40\n",
            "50\n",
            "60\n",
            "70\n"
          ]
        }
      ]
    },
    {
      "cell_type": "code",
      "source": [
        "#continue koşul sağlanırsa benim altımdaki koşulun içindeki bloğu çalıştırma demek"
      ],
      "metadata": {
        "id": "S1GKPjlAtKLH"
      },
      "execution_count": null,
      "outputs": []
    },
    {
      "cell_type": "code",
      "source": [
        "for num in my_list:\n",
        "\n",
        "  if num ==40:\n",
        "     continue\n",
        "  print(num)"
      ],
      "metadata": {
        "colab": {
          "base_uri": "https://localhost:8080/"
        },
        "id": "PbPVqdydsfJ5",
        "outputId": "5c4149d2-4fa0-4e9d-aca0-b49b9e95e1d1"
      },
      "execution_count": 136,
      "outputs": [
        {
          "output_type": "stream",
          "name": "stdout",
          "text": [
            "10\n",
            "20\n",
            "30\n",
            "50\n",
            "60\n",
            "70\n"
          ]
        }
      ]
    },
    {
      "cell_type": "code",
      "source": [
        "#pass geç demek genelde hata almamak için koda eklenir sonra dönüp bakılabilsin diye bitmiş kodda genelde pass bulunmaz"
      ],
      "metadata": {
        "id": "rBC3nwaWtAst"
      },
      "execution_count": 137,
      "outputs": []
    },
    {
      "cell_type": "code",
      "source": [
        "for i in my_list:\n",
        "  pass"
      ],
      "metadata": {
        "id": "Wo24sXhmt5Xk"
      },
      "execution_count": 138,
      "outputs": []
    },
    {
      "cell_type": "markdown",
      "source": [
        "# WHILE LOOP"
      ],
      "metadata": {
        "id": "eB4tm_29uEWm"
      }
    },
    {
      "cell_type": "code",
      "source": [
        "x=0"
      ],
      "metadata": {
        "id": "BYuYHIMvuIYZ"
      },
      "execution_count": 146,
      "outputs": []
    },
    {
      "cell_type": "code",
      "source": [
        "while x<10:\n",
        "  print(x)\n",
        "  x= x+1\n"
      ],
      "metadata": {
        "colab": {
          "base_uri": "https://localhost:8080/"
        },
        "id": "k1IgIPaduOZQ",
        "outputId": "e76a2b97-0d18-4f74-f80e-767b5e831ba2"
      },
      "execution_count": 147,
      "outputs": [
        {
          "output_type": "stream",
          "name": "stdout",
          "text": [
            "0\n",
            "1\n",
            "2\n",
            "3\n",
            "4\n",
            "5\n",
            "6\n",
            "7\n",
            "8\n",
            "9\n"
          ]
        }
      ]
    },
    {
      "cell_type": "code",
      "source": [
        "last_list=[10,20,30,40]\n"
      ],
      "metadata": {
        "id": "eWUYsLYfuS0q"
      },
      "execution_count": 150,
      "outputs": []
    },
    {
      "cell_type": "code",
      "source": [
        "while 20 in last_list:\n",
        "  print(\"20 in last_list\")\n",
        "  last_list.remove(20)"
      ],
      "metadata": {
        "colab": {
          "base_uri": "https://localhost:8080/"
        },
        "id": "BD6GdnG4u1Ne",
        "outputId": "67bf6f6d-3194-40ad-df11-099623f83edd"
      },
      "execution_count": 151,
      "outputs": [
        {
          "output_type": "stream",
          "name": "stdout",
          "text": [
            "20 in last_list\n"
          ]
        }
      ]
    },
    {
      "cell_type": "code",
      "source": [
        "#format"
      ],
      "metadata": {
        "id": "wDTB9VxGvEC9"
      },
      "execution_count": 152,
      "outputs": []
    },
    {
      "cell_type": "code",
      "source": [
        "my_list=[10,20,30,40]"
      ],
      "metadata": {
        "id": "ShskOYh2veZd"
      },
      "execution_count": 153,
      "outputs": []
    },
    {
      "cell_type": "code",
      "source": [
        "print(f\"my list is {my_list}\")"
      ],
      "metadata": {
        "colab": {
          "base_uri": "https://localhost:8080/"
        },
        "id": "lrJQje17viR4",
        "outputId": "68ae24ed-19a1-4cb5-de71-a9c375c1b046"
      },
      "execution_count": 154,
      "outputs": [
        {
          "output_type": "stream",
          "name": "stdout",
          "text": [
            "my list is [10, 20, 30, 40]\n"
          ]
        }
      ]
    },
    {
      "cell_type": "code",
      "source": [
        "my_string=\"Mustafa\"\n"
      ],
      "metadata": {
        "id": "qtoK0JwVvnEx"
      },
      "execution_count": 155,
      "outputs": []
    },
    {
      "cell_type": "code",
      "source": [
        "print(f\"my name is {my_string}\")"
      ],
      "metadata": {
        "colab": {
          "base_uri": "https://localhost:8080/"
        },
        "id": "TvT5VYigvrcK",
        "outputId": "8d273444-ef90-4c62-ddee-659facb3bcbf"
      },
      "execution_count": 156,
      "outputs": [
        {
          "output_type": "stream",
          "name": "stdout",
          "text": [
            "my name is Mustafa\n"
          ]
        }
      ]
    },
    {
      "cell_type": "code",
      "source": [
        "name=input()"
      ],
      "metadata": {
        "colab": {
          "base_uri": "https://localhost:8080/"
        },
        "id": "-igum-zzv_cP",
        "outputId": "a6692eda-2ec0-4189-979e-78e3249d0a28"
      },
      "execution_count": 160,
      "outputs": [
        {
          "name": "stdout",
          "output_type": "stream",
          "text": [
            "mustafa\n"
          ]
        }
      ]
    },
    {
      "cell_type": "code",
      "source": [
        "print(f\"welcome {name}\")"
      ],
      "metadata": {
        "colab": {
          "base_uri": "https://localhost:8080/"
        },
        "id": "L1gYKsi0wO4T",
        "outputId": "27fd686e-5f70-4f50-c2a7-ed9e35609630"
      },
      "execution_count": 161,
      "outputs": [
        {
          "output_type": "stream",
          "name": "stdout",
          "text": [
            "welcome mustafa\n"
          ]
        }
      ]
    },
    {
      "cell_type": "code",
      "source": [
        "print(\"welcome\",name)"
      ],
      "metadata": {
        "colab": {
          "base_uri": "https://localhost:8080/"
        },
        "id": "c6jc_oMNwU61",
        "outputId": "6da7686f-f859-4b74-bfa9-ca8c4879f109"
      },
      "execution_count": 162,
      "outputs": [
        {
          "output_type": "stream",
          "name": "stdout",
          "text": [
            "welcome mustafa\n"
          ]
        }
      ]
    },
    {
      "cell_type": "code",
      "source": [
        "p=0"
      ],
      "metadata": {
        "id": "HUQjfaxFwacC"
      },
      "execution_count": 163,
      "outputs": []
    },
    {
      "cell_type": "code",
      "source": [
        "while p<=20:\n",
        "  print(f\"value is {p}\")\n",
        "  p +=1"
      ],
      "metadata": {
        "colab": {
          "base_uri": "https://localhost:8080/"
        },
        "id": "Hpg_Pn-Vwo7d",
        "outputId": "1ee5c63a-7b6a-42d9-cee7-4eb1be1ad5e9"
      },
      "execution_count": 164,
      "outputs": [
        {
          "output_type": "stream",
          "name": "stdout",
          "text": [
            "value is 0\n",
            "value is 1\n",
            "value is 2\n",
            "value is 3\n",
            "value is 4\n",
            "value is 5\n",
            "value is 6\n",
            "value is 7\n",
            "value is 8\n",
            "value is 9\n",
            "value is 10\n",
            "value is 11\n",
            "value is 12\n",
            "value is 13\n",
            "value is 14\n",
            "value is 15\n",
            "value is 16\n",
            "value is 17\n",
            "value is 18\n",
            "value is 19\n",
            "value is 20\n"
          ]
        }
      ]
    },
    {
      "cell_type": "markdown",
      "source": [
        "# ADVANCED BUİLTİNG FUNCTİONS"
      ],
      "metadata": {
        "id": "4EGGj8Iz0Y79"
      }
    },
    {
      "cell_type": "code",
      "source": [
        "#range fonksiyonu aralık belirtiğimiz zaman o aralıktaki sayıları yazar range(started index,stopped index,stepping size)"
      ],
      "metadata": {
        "id": "5eMJV37Z0gwW"
      },
      "execution_count": 168,
      "outputs": []
    },
    {
      "cell_type": "code",
      "source": [
        "list(range(10))"
      ],
      "metadata": {
        "colab": {
          "base_uri": "https://localhost:8080/"
        },
        "id": "bB18FDUt0-aY",
        "outputId": "cefdf1ab-b60a-4037-b1a2-87016c11c25f"
      },
      "execution_count": 166,
      "outputs": [
        {
          "output_type": "execute_result",
          "data": {
            "text/plain": [
              "[0, 1, 2, 3, 4, 5, 6, 7, 8, 9]"
            ]
          },
          "metadata": {},
          "execution_count": 166
        }
      ]
    },
    {
      "cell_type": "code",
      "source": [
        "for i in list(range(5,25,4)):\n",
        "  print(i)"
      ],
      "metadata": {
        "colab": {
          "base_uri": "https://localhost:8080/"
        },
        "id": "Al53xU-61BSt",
        "outputId": "ce552fa9-8871-4fc3-a6e2-966e72420072"
      },
      "execution_count": 167,
      "outputs": [
        {
          "output_type": "stream",
          "name": "stdout",
          "text": [
            "5\n",
            "9\n",
            "13\n",
            "17\n",
            "21\n"
          ]
        }
      ]
    },
    {
      "cell_type": "code",
      "source": [
        "#index almak için\n",
        "for ix in range(len(my_list)):\n",
        "  print(f\"index is {ix} \")"
      ],
      "metadata": {
        "colab": {
          "base_uri": "https://localhost:8080/"
        },
        "id": "pSPNdhbv1LL3",
        "outputId": "bd7b87fa-774e-474f-f281-700d97c7fe82"
      },
      "execution_count": 171,
      "outputs": [
        {
          "output_type": "stream",
          "name": "stdout",
          "text": [
            "index is 0 \n",
            "index is 1 \n",
            "index is 2 \n",
            "index is 3 \n"
          ]
        }
      ]
    },
    {
      "cell_type": "code",
      "source": [
        "# !!!! enumerate fonksiyonu direk listenin içindeki valuları indexleriyle bberaber veriri tuple olarak"
      ],
      "metadata": {
        "id": "UvpSQxVx1yDE"
      },
      "execution_count": 172,
      "outputs": []
    },
    {
      "cell_type": "code",
      "source": [
        "for i in enumerate(my_list):\n",
        "  print(i)"
      ],
      "metadata": {
        "colab": {
          "base_uri": "https://localhost:8080/"
        },
        "id": "JgfWhr0m2Uhr",
        "outputId": "3c83c4c0-3294-418c-e0b1-e87ef27a2a1d"
      },
      "execution_count": 174,
      "outputs": [
        {
          "output_type": "stream",
          "name": "stdout",
          "text": [
            "(0, 10)\n",
            "(1, 20)\n",
            "(2, 30)\n",
            "(3, 40)\n"
          ]
        }
      ]
    },
    {
      "cell_type": "code",
      "source": [
        "for index,value in enumerate(my_list):\n",
        "  print(value)"
      ],
      "metadata": {
        "colab": {
          "base_uri": "https://localhost:8080/"
        },
        "id": "lxyrI9sH2cKh",
        "outputId": "670cd2bc-ced1-438a-bf39-0f7510459e13"
      },
      "execution_count": 175,
      "outputs": [
        {
          "output_type": "stream",
          "name": "stdout",
          "text": [
            "10\n",
            "20\n",
            "30\n",
            "40\n"
          ]
        }
      ]
    },
    {
      "cell_type": "code",
      "source": [
        "# kütüphane çağırma\n",
        "#random kütüphanesi"
      ],
      "metadata": {
        "id": "7SL68TxG2rK3"
      },
      "execution_count": 176,
      "outputs": []
    },
    {
      "cell_type": "code",
      "source": [
        "from random import randint  #randint random kütüphansende bulunan bir fonksyon"
      ],
      "metadata": {
        "id": "mIin4MQq29sX"
      },
      "execution_count": 181,
      "outputs": []
    },
    {
      "cell_type": "code",
      "source": [
        "randint(1,50)"
      ],
      "metadata": {
        "colab": {
          "base_uri": "https://localhost:8080/"
        },
        "id": "a5rVJHDI3DdM",
        "outputId": "4a814786-32f2-422e-baef-e4dde50112ba"
      },
      "execution_count": 179,
      "outputs": [
        {
          "output_type": "execute_result",
          "data": {
            "text/plain": [
              "18"
            ]
          },
          "metadata": {},
          "execution_count": 179
        }
      ]
    },
    {
      "cell_type": "code",
      "source": [
        "randint(1,50)"
      ],
      "metadata": {
        "colab": {
          "base_uri": "https://localhost:8080/"
        },
        "id": "c7F8WX5i3Fij",
        "outputId": "6eaae93a-e6e7-4326-9a8b-d8aa6a83e3cf"
      },
      "execution_count": 180,
      "outputs": [
        {
          "output_type": "execute_result",
          "data": {
            "text/plain": [
              "8"
            ]
          },
          "metadata": {},
          "execution_count": 180
        }
      ]
    },
    {
      "cell_type": "code",
      "source": [
        "from random import shuffle  #shuffle rast gele karıştıtır"
      ],
      "metadata": {
        "id": "PYCMZUMB3NYU"
      },
      "execution_count": 182,
      "outputs": []
    },
    {
      "cell_type": "code",
      "source": [
        "my_list=[10,20,30,40,50]"
      ],
      "metadata": {
        "id": "oPRxcQoJ3mJW"
      },
      "execution_count": 183,
      "outputs": []
    },
    {
      "cell_type": "code",
      "source": [
        "shuffle(my_list)"
      ],
      "metadata": {
        "id": "W-hGmkCn3smw"
      },
      "execution_count": 184,
      "outputs": []
    },
    {
      "cell_type": "code",
      "source": [
        "my_list"
      ],
      "metadata": {
        "colab": {
          "base_uri": "https://localhost:8080/"
        },
        "id": "Q29o3IRP3vwZ",
        "outputId": "76995561-485c-4de8-c072-eb5a0c709e99"
      },
      "execution_count": 185,
      "outputs": [
        {
          "output_type": "execute_result",
          "data": {
            "text/plain": [
              "[20, 30, 40, 50, 10]"
            ]
          },
          "metadata": {},
          "execution_count": 185
        }
      ]
    },
    {
      "cell_type": "code",
      "source": [
        "#zip"
      ],
      "metadata": {
        "id": "Wd0UJx733xEa"
      },
      "execution_count": 186,
      "outputs": []
    },
    {
      "cell_type": "code",
      "source": [
        "food_list=[\"apple\",\"banana\",\"melon(kavun)\"]"
      ],
      "metadata": {
        "id": "A0zXKFAl45_V"
      },
      "execution_count": 187,
      "outputs": []
    },
    {
      "cell_type": "code",
      "source": [
        "calories_list=[100,150,180]"
      ],
      "metadata": {
        "id": "LCvVlo795G7N"
      },
      "execution_count": 188,
      "outputs": []
    },
    {
      "cell_type": "code",
      "source": [
        "day_list=[\"monday\",\"tuesday\",\"wednesday\"]"
      ],
      "metadata": {
        "id": "UXbXB9wY5LcI"
      },
      "execution_count": 189,
      "outputs": []
    },
    {
      "cell_type": "code",
      "source": [
        "zipped_list=list(zip(food_list,calories_list,day_list))"
      ],
      "metadata": {
        "id": "tLvHMi-f5PEv"
      },
      "execution_count": 190,
      "outputs": []
    },
    {
      "cell_type": "code",
      "source": [
        "zipped_list"
      ],
      "metadata": {
        "colab": {
          "base_uri": "https://localhost:8080/"
        },
        "id": "ar8LWDIy5Tfk",
        "outputId": "8e572140-e5b2-4f6e-da00-33773676482d"
      },
      "execution_count": 191,
      "outputs": [
        {
          "output_type": "execute_result",
          "data": {
            "text/plain": [
              "[('apple', 100, 'monday'),\n",
              " ('banana', 150, 'tuesday'),\n",
              " ('melon(kavun)', 180, 'wednesday')]"
            ]
          },
          "metadata": {},
          "execution_count": 191
        }
      ]
    },
    {
      "cell_type": "code",
      "source": [
        "type(zipped_list)\n"
      ],
      "metadata": {
        "colab": {
          "base_uri": "https://localhost:8080/"
        },
        "id": "aF0SV9Ei5VS-",
        "outputId": "30772cd4-c819-479f-c3af-4d2a9e87499c"
      },
      "execution_count": 192,
      "outputs": [
        {
          "output_type": "execute_result",
          "data": {
            "text/plain": [
              "list"
            ]
          },
          "metadata": {},
          "execution_count": 192
        }
      ]
    },
    {
      "cell_type": "code",
      "source": [
        "#choice"
      ],
      "metadata": {
        "id": "7gP4V-Yi6gJi"
      },
      "execution_count": null,
      "outputs": []
    },
    {
      "cell_type": "code",
      "source": [
        "from random import choice"
      ],
      "metadata": {
        "id": "x5RF9Wck5YYf"
      },
      "execution_count": 193,
      "outputs": []
    },
    {
      "cell_type": "code",
      "source": [
        "choice(zipped_list)"
      ],
      "metadata": {
        "colab": {
          "base_uri": "https://localhost:8080/"
        },
        "id": "X_zf8w0w6MxO",
        "outputId": "7810927c-0bec-464b-81fc-2bf5919fe235"
      },
      "execution_count": 194,
      "outputs": [
        {
          "output_type": "execute_result",
          "data": {
            "text/plain": [
              "('melon(kavun)', 180, 'wednesday')"
            ]
          },
          "metadata": {},
          "execution_count": 194
        }
      ]
    },
    {
      "cell_type": "code",
      "source": [
        "my_list=[]\n",
        "my_string=\"AYYILDIZ\""
      ],
      "metadata": {
        "id": "7hmsDAN96PQ1"
      },
      "execution_count": 195,
      "outputs": []
    },
    {
      "cell_type": "code",
      "source": [
        "for element in my_string:\n",
        "  my_list.append(element)"
      ],
      "metadata": {
        "id": "Ojm0enje6qN3"
      },
      "execution_count": 196,
      "outputs": []
    },
    {
      "cell_type": "code",
      "source": [
        "my_list"
      ],
      "metadata": {
        "colab": {
          "base_uri": "https://localhost:8080/"
        },
        "id": "1WMDs_kJ6xKe",
        "outputId": "53854a6b-9488-4179-cdee-a31dc9e227bb"
      },
      "execution_count": 197,
      "outputs": [
        {
          "output_type": "execute_result",
          "data": {
            "text/plain": [
              "['A', 'Y', 'Y', 'I', 'L', 'D', 'I', 'Z']"
            ]
          },
          "metadata": {},
          "execution_count": 197
        }
      ]
    },
    {
      "cell_type": "code",
      "source": [
        "#list comprehension"
      ],
      "metadata": {
        "id": "IEIj_vvy6z0X"
      },
      "execution_count": 198,
      "outputs": []
    },
    {
      "cell_type": "code",
      "source": [
        "new_list=[element for element in my_string]"
      ],
      "metadata": {
        "id": "WftV0YV36-Pi"
      },
      "execution_count": 199,
      "outputs": []
    },
    {
      "cell_type": "code",
      "source": [
        "new_list"
      ],
      "metadata": {
        "colab": {
          "base_uri": "https://localhost:8080/"
        },
        "id": "71CmftBA7GPw",
        "outputId": "49c504bf-1700-4c7a-ee5e-98f2a742e35b"
      },
      "execution_count": 200,
      "outputs": [
        {
          "output_type": "execute_result",
          "data": {
            "text/plain": [
              "['A', 'Y', 'Y', 'I', 'L', 'D', 'I', 'Z']"
            ]
          },
          "metadata": {},
          "execution_count": 200
        }
      ]
    },
    {
      "cell_type": "code",
      "source": [
        "new_set={element for element in my_string}"
      ],
      "metadata": {
        "id": "nvmwaHVT7Hdw"
      },
      "execution_count": 201,
      "outputs": []
    },
    {
      "cell_type": "code",
      "source": [
        "new_set"
      ],
      "metadata": {
        "colab": {
          "base_uri": "https://localhost:8080/"
        },
        "id": "PnglFZKm7SqN",
        "outputId": "e4e4414e-a2a0-4f0d-f4dd-534b33ed111c"
      },
      "execution_count": 202,
      "outputs": [
        {
          "output_type": "execute_result",
          "data": {
            "text/plain": [
              "{'A', 'D', 'I', 'L', 'Y', 'Z'}"
            ]
          },
          "metadata": {},
          "execution_count": 202
        }
      ]
    },
    {
      "cell_type": "code",
      "source": [
        "number_list=[10,20,30,40]"
      ],
      "metadata": {
        "id": "g3XbpSam7UcH"
      },
      "execution_count": 203,
      "outputs": []
    },
    {
      "cell_type": "code",
      "source": [
        "new_numberList=[num/2 for num in number_list]"
      ],
      "metadata": {
        "id": "cFNJuO5g7hUF"
      },
      "execution_count": 204,
      "outputs": []
    },
    {
      "cell_type": "code",
      "source": [
        "new_numberList"
      ],
      "metadata": {
        "colab": {
          "base_uri": "https://localhost:8080/"
        },
        "id": "7j33rm507oIp",
        "outputId": "462b4ba5-eaca-4adc-f206-e4abc4a3c89c"
      },
      "execution_count": 205,
      "outputs": [
        {
          "output_type": "execute_result",
          "data": {
            "text/plain": [
              "[5.0, 10.0, 15.0, 20.0]"
            ]
          },
          "metadata": {},
          "execution_count": 205
        }
      ]
    },
    {
      "cell_type": "code",
      "source": [],
      "metadata": {
        "id": "XLcBdSII7qGK"
      },
      "execution_count": null,
      "outputs": []
    }
  ]
}