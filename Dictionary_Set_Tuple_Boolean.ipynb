{
  "nbformat": 4,
  "nbformat_minor": 0,
  "metadata": {
    "colab": {
      "provenance": [],
      "authorship_tag": "ABX9TyMgBEyqonCMo4aqbHrnxX9J",
      "include_colab_link": true
    },
    "kernelspec": {
      "name": "python3",
      "display_name": "Python 3"
    },
    "language_info": {
      "name": "python"
    }
  },
  "cells": [
    {
      "cell_type": "markdown",
      "metadata": {
        "id": "view-in-github",
        "colab_type": "text"
      },
      "source": [
        "<a href=\"https://colab.research.google.com/github/Mstfayldz/Learing_Python/blob/master/Dictionary_Set_Tuple_Boolean.ipynb\" target=\"_parent\"><img src=\"https://colab.research.google.com/assets/colab-badge.svg\" alt=\"Open In Colab\"/></a>"
      ]
    },
    {
      "cell_type": "markdown",
      "source": [
        "# Dictionary\n"
      ],
      "metadata": {
        "id": "NVvYFQuajWJS"
      }
    },
    {
      "cell_type": "code",
      "source": [
        "#key-value pairing\n",
        "# variable_name={\"key\":\"value\"}"
      ],
      "metadata": {
        "id": "gRRyrQ5IjcA9"
      },
      "execution_count": 251,
      "outputs": []
    },
    {
      "cell_type": "code",
      "source": [
        "fitness_dictionary={\"banana\":100,\"apple\":140,\"orange\":220}"
      ],
      "metadata": {
        "id": "LAgVpA0ujgZK"
      },
      "execution_count": 252,
      "outputs": []
    },
    {
      "cell_type": "code",
      "source": [
        "type(fitness_dictionary)"
      ],
      "metadata": {
        "colab": {
          "base_uri": "https://localhost:8080/"
        },
        "id": "KvPRjGx3jtoR",
        "outputId": "3901238e-cc2e-41d4-ad2d-294d6deb7929"
      },
      "execution_count": 253,
      "outputs": [
        {
          "output_type": "execute_result",
          "data": {
            "text/plain": [
              "dict"
            ]
          },
          "metadata": {},
          "execution_count": 253
        }
      ]
    },
    {
      "cell_type": "code",
      "source": [
        "fitness_dictionary[\"banana\"]"
      ],
      "metadata": {
        "colab": {
          "base_uri": "https://localhost:8080/"
        },
        "id": "DIcq_yY6jweZ",
        "outputId": "25a5a56a-8bb8-417f-f2a8-c56c367ee452"
      },
      "execution_count": 254,
      "outputs": [
        {
          "output_type": "execute_result",
          "data": {
            "text/plain": [
              "100"
            ]
          },
          "metadata": {},
          "execution_count": 254
        }
      ]
    },
    {
      "cell_type": "code",
      "source": [
        "# fetaure of dictionary"
      ],
      "metadata": {
        "id": "4D4HtALZj4nt"
      },
      "execution_count": 255,
      "outputs": []
    },
    {
      "cell_type": "code",
      "source": [
        "fitness_dictionary.keys()"
      ],
      "metadata": {
        "colab": {
          "base_uri": "https://localhost:8080/"
        },
        "id": "1Ww55RYZkjpi",
        "outputId": "a5a20a80-17b4-4000-dc3f-0806465a6fc2"
      },
      "execution_count": 256,
      "outputs": [
        {
          "output_type": "execute_result",
          "data": {
            "text/plain": [
              "dict_keys(['banana', 'apple', 'orange'])"
            ]
          },
          "metadata": {},
          "execution_count": 256
        }
      ]
    },
    {
      "cell_type": "code",
      "source": [
        "fitness_dictionary.fromkeys(fitness_dictionary)"
      ],
      "metadata": {
        "colab": {
          "base_uri": "https://localhost:8080/"
        },
        "id": "7xd8J7QekoJ4",
        "outputId": "55bfb708-c20a-422e-ab80-003c20e60154"
      },
      "execution_count": 257,
      "outputs": [
        {
          "output_type": "execute_result",
          "data": {
            "text/plain": [
              "{'banana': None, 'apple': None, 'orange': None}"
            ]
          },
          "metadata": {},
          "execution_count": 257
        }
      ]
    },
    {
      "cell_type": "code",
      "source": [
        "fitness_dictionary.values()"
      ],
      "metadata": {
        "colab": {
          "base_uri": "https://localhost:8080/"
        },
        "id": "KgakGenlkugf",
        "outputId": "ff760a15-1225-4bec-a5a9-ca6d506d0e36"
      },
      "execution_count": 258,
      "outputs": [
        {
          "output_type": "execute_result",
          "data": {
            "text/plain": [
              "dict_values([100, 140, 220])"
            ]
          },
          "metadata": {},
          "execution_count": 258
        }
      ]
    },
    {
      "cell_type": "code",
      "source": [
        "fitness_dictionary.items()"
      ],
      "metadata": {
        "colab": {
          "base_uri": "https://localhost:8080/"
        },
        "id": "15YxgOytk1H5",
        "outputId": "279749f8-7cc9-4a21-a2f8-ce3db06f87b4"
      },
      "execution_count": 259,
      "outputs": [
        {
          "output_type": "execute_result",
          "data": {
            "text/plain": [
              "dict_items([('banana', 100), ('apple', 140), ('orange', 220)])"
            ]
          },
          "metadata": {},
          "execution_count": 259
        }
      ]
    },
    {
      "cell_type": "code",
      "source": [
        "type(fitness_dictionary.values())"
      ],
      "metadata": {
        "colab": {
          "base_uri": "https://localhost:8080/"
        },
        "id": "iPppZE28k3MK",
        "outputId": "2045951c-c99a-40bd-a36c-7570820660d5"
      },
      "execution_count": 260,
      "outputs": [
        {
          "output_type": "execute_result",
          "data": {
            "text/plain": [
              "dict_values"
            ]
          },
          "metadata": {},
          "execution_count": 260
        }
      ]
    },
    {
      "cell_type": "code",
      "source": [
        "#value değerlerini bir listeye nasıl alabilirim"
      ],
      "metadata": {
        "id": "WxvnS5jwlPFY"
      },
      "execution_count": 261,
      "outputs": []
    },
    {
      "cell_type": "code",
      "source": [
        "list(fitness_dictionary.values())"
      ],
      "metadata": {
        "colab": {
          "base_uri": "https://localhost:8080/"
        },
        "id": "p5Cbg6Z_lWKC",
        "outputId": "c85df06c-0fdc-4b9e-f81b-e90c020f94be"
      },
      "execution_count": 262,
      "outputs": [
        {
          "output_type": "execute_result",
          "data": {
            "text/plain": [
              "[100, 140, 220]"
            ]
          },
          "metadata": {},
          "execution_count": 262
        }
      ]
    },
    {
      "cell_type": "code",
      "source": [
        "fitness_dictionary['banana']=200 #changing value"
      ],
      "metadata": {
        "id": "_9-F8tlFlZMQ"
      },
      "execution_count": 263,
      "outputs": []
    },
    {
      "cell_type": "code",
      "source": [
        "fitness_dictionary"
      ],
      "metadata": {
        "colab": {
          "base_uri": "https://localhost:8080/"
        },
        "id": "6gFiorQMlq-Y",
        "outputId": "be849392-8513-4f98-a413-7f67b30ec9b0"
      },
      "execution_count": 264,
      "outputs": [
        {
          "output_type": "execute_result",
          "data": {
            "text/plain": [
              "{'banana': 200, 'apple': 140, 'orange': 220}"
            ]
          },
          "metadata": {},
          "execution_count": 264
        }
      ]
    },
    {
      "cell_type": "code",
      "source": [
        "fitness_dictionary['cherry']=300 #ekleme"
      ],
      "metadata": {
        "id": "FcjQVnrelsYo"
      },
      "execution_count": 265,
      "outputs": []
    },
    {
      "cell_type": "code",
      "source": [
        "fitness_dictionary"
      ],
      "metadata": {
        "colab": {
          "base_uri": "https://localhost:8080/"
        },
        "id": "4_KTz31ll1kS",
        "outputId": "9e846caf-42c0-4a84-c85b-f5d62c7c9b6c"
      },
      "execution_count": 266,
      "outputs": [
        {
          "output_type": "execute_result",
          "data": {
            "text/plain": [
              "{'banana': 200, 'apple': 140, 'orange': 220, 'cherry': 300}"
            ]
          },
          "metadata": {},
          "execution_count": 266
        }
      ]
    },
    {
      "cell_type": "code",
      "source": [
        "# NOT: get fonksiyonu sözlüğün içinde olmyan bir key arattığımızda sorun çıkıp uygulama çökmesin diye kendi atatığmız default değerin dönmesini sağlar"
      ],
      "metadata": {
        "id": "NLPCCYIFl2x7"
      },
      "execution_count": 267,
      "outputs": []
    },
    {
      "cell_type": "code",
      "source": [
        "help(fitness_dictionary.get)"
      ],
      "metadata": {
        "colab": {
          "base_uri": "https://localhost:8080/"
        },
        "id": "pzOfdnf1nkSb",
        "outputId": "4f439a73-bf3e-4c3b-86c2-2750a21dfdcb"
      },
      "execution_count": 268,
      "outputs": [
        {
          "output_type": "stream",
          "name": "stdout",
          "text": [
            "Help on built-in function get:\n",
            "\n",
            "get(key, default=None, /) method of builtins.dict instance\n",
            "    Return the value for key if key is in the dictionary, else default.\n",
            "\n"
          ]
        }
      ]
    },
    {
      "cell_type": "code",
      "source": [
        "fitness_dictionary.get(\"apple\",0)"
      ],
      "metadata": {
        "colab": {
          "base_uri": "https://localhost:8080/"
        },
        "id": "OrFg33rDnSW1",
        "outputId": "09767d97-2463-45b4-e427-424cccb8fa82"
      },
      "execution_count": 269,
      "outputs": [
        {
          "output_type": "execute_result",
          "data": {
            "text/plain": [
              "140"
            ]
          },
          "metadata": {},
          "execution_count": 269
        }
      ]
    },
    {
      "cell_type": "code",
      "source": [
        "fitness_dictionary.get(\"appe\",0)"
      ],
      "metadata": {
        "colab": {
          "base_uri": "https://localhost:8080/"
        },
        "id": "eHjTDeuXnXMD",
        "outputId": "a0b85e84-fe4b-4c40-f5f2-0b4ece8db3f5"
      },
      "execution_count": 270,
      "outputs": [
        {
          "output_type": "execute_result",
          "data": {
            "text/plain": [
              "0"
            ]
          },
          "metadata": {},
          "execution_count": 270
        }
      ]
    },
    {
      "cell_type": "code",
      "source": [
        "my_dictioanary={100:\"a\",200:\"b\"}"
      ],
      "metadata": {
        "id": "BlKvDLcYna1J"
      },
      "execution_count": 271,
      "outputs": []
    },
    {
      "cell_type": "code",
      "source": [
        "my_dictioanary[100]"
      ],
      "metadata": {
        "colab": {
          "base_uri": "https://localhost:8080/",
          "height": 0
        },
        "id": "I0brNinHVmJQ",
        "outputId": "ae0256f1-afa2-45b4-c4a1-7f170ba840a4"
      },
      "execution_count": 272,
      "outputs": [
        {
          "output_type": "execute_result",
          "data": {
            "text/plain": [
              "'a'"
            ],
            "application/vnd.google.colaboratory.intrinsic+json": {
              "type": "string"
            }
          },
          "metadata": {},
          "execution_count": 272
        }
      ]
    },
    {
      "cell_type": "code",
      "source": [
        "my_dictioanary={\"key1\":\"value1\",\"key2\":\"value2\",\"key3\":\"value3\"}"
      ],
      "metadata": {
        "id": "xea8gco1VqIR"
      },
      "execution_count": 273,
      "outputs": []
    },
    {
      "cell_type": "code",
      "source": [
        "my_dictioanary[\"key1\"]"
      ],
      "metadata": {
        "colab": {
          "base_uri": "https://localhost:8080/",
          "height": 0
        },
        "id": "Mo99HvtbVyKo",
        "outputId": "02f9e222-9d4a-4062-8dca-0dbacd7d6488"
      },
      "execution_count": 274,
      "outputs": [
        {
          "output_type": "execute_result",
          "data": {
            "text/plain": [
              "'value1'"
            ],
            "application/vnd.google.colaboratory.intrinsic+json": {
              "type": "string"
            }
          },
          "metadata": {},
          "execution_count": 274
        }
      ]
    },
    {
      "cell_type": "code",
      "source": [
        "my_mixed_dictionary={\"key1\":100,\"key2\":3.14,\"key3\":[10,20,30]} #farklı veri tipleri saklanabilir"
      ],
      "metadata": {
        "id": "VMdZo_WgVz8v"
      },
      "execution_count": 275,
      "outputs": []
    },
    {
      "cell_type": "code",
      "source": [
        "my_mixed_dictionary[\"key3\"]"
      ],
      "metadata": {
        "colab": {
          "base_uri": "https://localhost:8080/"
        },
        "id": "cCJ7fQjjV8F-",
        "outputId": "2f5c1320-64e1-4eb8-d675-b3e6bce177fb"
      },
      "execution_count": 276,
      "outputs": [
        {
          "output_type": "execute_result",
          "data": {
            "text/plain": [
              "[10, 20, 30]"
            ]
          },
          "metadata": {},
          "execution_count": 276
        }
      ]
    },
    {
      "cell_type": "code",
      "source": [
        "my_mixed_dictionary[\"key3\"][1]"
      ],
      "metadata": {
        "colab": {
          "base_uri": "https://localhost:8080/"
        },
        "id": "5WFXK95MV9iE",
        "outputId": "ef0b02a4-f87d-4752-957a-97fc2d42ed27"
      },
      "execution_count": 277,
      "outputs": [
        {
          "output_type": "execute_result",
          "data": {
            "text/plain": [
              "20"
            ]
          },
          "metadata": {},
          "execution_count": 277
        }
      ]
    },
    {
      "cell_type": "code",
      "source": [
        "last_dictionary={\"k1\":10,\"k2\":[10,20,30,40,50],\"k3\":\"string\",\"k4\":{\"a\":100,\"b\":200}}\n",
        "#tek sözlüğün içinde farklı veri tipleri var ve içinde ayrı bir sözlük var"
      ],
      "metadata": {
        "id": "1r41yHhdWaOh"
      },
      "execution_count": 278,
      "outputs": []
    },
    {
      "cell_type": "code",
      "source": [
        "last_dictionary[\"k4\"][\"b\"]\n",
        "#iç içe sözlüklerde value bulma"
      ],
      "metadata": {
        "colab": {
          "base_uri": "https://localhost:8080/"
        },
        "id": "XdDT03Z7Wq3o",
        "outputId": "4838d1bf-a1e0-4b13-a277-4124e3185933"
      },
      "execution_count": 279,
      "outputs": [
        {
          "output_type": "execute_result",
          "data": {
            "text/plain": [
              "200"
            ]
          },
          "metadata": {},
          "execution_count": 279
        }
      ]
    },
    {
      "cell_type": "code",
      "source": [
        "last_dictionary['k2'][2]\n",
        "#sözlüğün içindeki listenin her bir indeine ulaşabilirim"
      ],
      "metadata": {
        "colab": {
          "base_uri": "https://localhost:8080/"
        },
        "id": "1QIjInKHW796",
        "outputId": "87c2e7a9-34ec-425c-f742-d4cd2708d76e"
      },
      "execution_count": 280,
      "outputs": [
        {
          "output_type": "execute_result",
          "data": {
            "text/plain": [
              "30"
            ]
          },
          "metadata": {},
          "execution_count": 280
        }
      ]
    },
    {
      "cell_type": "markdown",
      "source": [
        "# SET"
      ],
      "metadata": {
        "id": "uyRs5O_tXqe8"
      }
    },
    {
      "cell_type": "code",
      "source": [
        "#Unique elements,unorder"
      ],
      "metadata": {
        "id": "7p8SoqksXvfS"
      },
      "execution_count": 281,
      "outputs": []
    },
    {
      "cell_type": "code",
      "source": [
        "myList=[10,20,30,40,10,20,30,40]"
      ],
      "metadata": {
        "id": "5PcjKoL_YbKJ"
      },
      "execution_count": 282,
      "outputs": []
    },
    {
      "cell_type": "code",
      "source": [
        "mySet=set(myList)\n",
        "#set fonksiyonu listeyi SET e dönüştürür"
      ],
      "metadata": {
        "id": "05Ox-F7fYhq8"
      },
      "execution_count": 283,
      "outputs": []
    },
    {
      "cell_type": "code",
      "source": [
        "mySet"
      ],
      "metadata": {
        "colab": {
          "base_uri": "https://localhost:8080/"
        },
        "id": "pbVA8xAuYobT",
        "outputId": "9684be5a-d1e9-422d-d747-7a07b6630957"
      },
      "execution_count": 284,
      "outputs": [
        {
          "output_type": "execute_result",
          "data": {
            "text/plain": [
              "{10, 20, 30, 40}"
            ]
          },
          "metadata": {},
          "execution_count": 284
        }
      ]
    },
    {
      "cell_type": "code",
      "source": [
        "mySet={10,20,30,40,10,20,30,40}\n",
        "# setler de ayı elementler sadece bir kere yazılır"
      ],
      "metadata": {
        "id": "uKNgghQRYpus"
      },
      "execution_count": 285,
      "outputs": []
    },
    {
      "cell_type": "code",
      "source": [
        "mySet"
      ],
      "metadata": {
        "colab": {
          "base_uri": "https://localhost:8080/"
        },
        "id": "jvygR2HKY7B-",
        "outputId": "8af21289-2a49-4477-c4ac-7d5b0c0a1fbb"
      },
      "execution_count": 286,
      "outputs": [
        {
          "output_type": "execute_result",
          "data": {
            "text/plain": [
              "{10, 20, 30, 40}"
            ]
          },
          "metadata": {},
          "execution_count": 286
        }
      ]
    },
    {
      "cell_type": "code",
      "source": [
        "mySet.add(50)"
      ],
      "metadata": {
        "id": "DGfLaMnXY72_"
      },
      "execution_count": 287,
      "outputs": []
    },
    {
      "cell_type": "code",
      "source": [
        "mySet"
      ],
      "metadata": {
        "colab": {
          "base_uri": "https://localhost:8080/"
        },
        "id": "clTtyNzLZMyt",
        "outputId": "b85c6eb0-a8e2-462d-81a8-27c4c7d6963d"
      },
      "execution_count": 288,
      "outputs": [
        {
          "output_type": "execute_result",
          "data": {
            "text/plain": [
              "{10, 20, 30, 40, 50}"
            ]
          },
          "metadata": {},
          "execution_count": 288
        }
      ]
    },
    {
      "cell_type": "code",
      "source": [
        "#mySet[0] çalışmaz index mantığı yoktur"
      ],
      "metadata": {
        "id": "osQ4og96ZN6S"
      },
      "execution_count": 289,
      "outputs": []
    },
    {
      "cell_type": "code",
      "source": [
        "mySet2={40,50,60,70}"
      ],
      "metadata": {
        "id": "RseJUMkVZZCw"
      },
      "execution_count": 290,
      "outputs": []
    },
    {
      "cell_type": "code",
      "source": [
        "mySet.difference(mySet2)\n",
        "#farkı al"
      ],
      "metadata": {
        "colab": {
          "base_uri": "https://localhost:8080/"
        },
        "id": "RM3tb74QZnIn",
        "outputId": "c5e7707b-228d-4d86-fd18-28e6cd0b74af"
      },
      "execution_count": 291,
      "outputs": [
        {
          "output_type": "execute_result",
          "data": {
            "text/plain": [
              "{10, 20, 30}"
            ]
          },
          "metadata": {},
          "execution_count": 291
        }
      ]
    },
    {
      "cell_type": "code",
      "source": [
        "mySet.intersection(mySet2)\n",
        "#kesişimi al"
      ],
      "metadata": {
        "colab": {
          "base_uri": "https://localhost:8080/"
        },
        "id": "ILTVY84qZqTU",
        "outputId": "5465b204-5d12-49fa-9449-5f7bcf9a7db3"
      },
      "execution_count": 292,
      "outputs": [
        {
          "output_type": "execute_result",
          "data": {
            "text/plain": [
              "{40, 50}"
            ]
          },
          "metadata": {},
          "execution_count": 292
        }
      ]
    },
    {
      "cell_type": "code",
      "source": [
        "mySet.union(mySet2)\n",
        "#birleştir"
      ],
      "metadata": {
        "colab": {
          "base_uri": "https://localhost:8080/"
        },
        "id": "V1dSqYwcZvIy",
        "outputId": "86783a6a-c526-4ab8-836b-17846b394569"
      },
      "execution_count": 293,
      "outputs": [
        {
          "output_type": "execute_result",
          "data": {
            "text/plain": [
              "{10, 20, 30, 40, 50, 60, 70}"
            ]
          },
          "metadata": {},
          "execution_count": 293
        }
      ]
    },
    {
      "cell_type": "code",
      "source": [
        "country_list=[\"de\",\"fr\",\"tr\",\"tr\",\"fr\",\"de\",\"fr\",\"tr\",\"nl\",\"de\"]"
      ],
      "metadata": {
        "id": "gxrweUs0Z9oz"
      },
      "execution_count": 294,
      "outputs": []
    },
    {
      "cell_type": "code",
      "source": [
        "len(country_list)"
      ],
      "metadata": {
        "colab": {
          "base_uri": "https://localhost:8080/"
        },
        "id": "dTgSqnbuam6b",
        "outputId": "6c531f6b-c5eb-4912-e987-b4ebc73357ba"
      },
      "execution_count": 295,
      "outputs": [
        {
          "output_type": "execute_result",
          "data": {
            "text/plain": [
              "10"
            ]
          },
          "metadata": {},
          "execution_count": 295
        }
      ]
    },
    {
      "cell_type": "code",
      "source": [
        "len(set(country_list))\n",
        "#Satış yaptığım farklı ülke saysısını tutmak gibi pek çok alanda kullanılabilir"
      ],
      "metadata": {
        "colab": {
          "base_uri": "https://localhost:8080/"
        },
        "id": "HJsK2fP-apX_",
        "outputId": "bc2a49ef-c440-40f0-b5dd-c415ec0b50b4"
      },
      "execution_count": 296,
      "outputs": [
        {
          "output_type": "execute_result",
          "data": {
            "text/plain": [
              "4"
            ]
          },
          "metadata": {},
          "execution_count": 296
        }
      ]
    },
    {
      "cell_type": "code",
      "source": [
        "#Boş liste oluşturma\n",
        "emptylist=[] #emptylist= list() olarak da yazılabilir\n",
        "type(emptylist)"
      ],
      "metadata": {
        "colab": {
          "base_uri": "https://localhost:8080/"
        },
        "id": "wbbGFrYFar99",
        "outputId": "6066a2b2-6fbf-4a61-cb90-be3989098063"
      },
      "execution_count": 297,
      "outputs": [
        {
          "output_type": "execute_result",
          "data": {
            "text/plain": [
              "list"
            ]
          },
          "metadata": {},
          "execution_count": 297
        }
      ]
    },
    {
      "cell_type": "code",
      "source": [
        "#Boş sözlük oluşturma\n",
        "emptyDic={}#emptyD emptyDic=dict() olarak da yazılabilir\n",
        "type(emptyDic)\n",
        "emptyDic[\"a\"]=20"
      ],
      "metadata": {
        "id": "34ssZUwKbTi0"
      },
      "execution_count": 298,
      "outputs": []
    },
    {
      "cell_type": "code",
      "source": [
        "emptyDic"
      ],
      "metadata": {
        "colab": {
          "base_uri": "https://localhost:8080/"
        },
        "id": "vrGiClu5cdmQ",
        "outputId": "758d62d4-b808-445c-a0fb-0c3d33c90fdb"
      },
      "execution_count": 299,
      "outputs": [
        {
          "output_type": "execute_result",
          "data": {
            "text/plain": [
              "{'a': 20}"
            ]
          },
          "metadata": {},
          "execution_count": 299
        }
      ]
    },
    {
      "cell_type": "code",
      "source": [
        "#Boş set oluşturma\n",
        "emptySet=set()\n",
        "type(emptySet)"
      ],
      "metadata": {
        "colab": {
          "base_uri": "https://localhost:8080/"
        },
        "id": "GPFwzytCbZ_2",
        "outputId": "d545154b-d0b8-43cd-e3f6-8cf04bdabedb"
      },
      "execution_count": 300,
      "outputs": [
        {
          "output_type": "execute_result",
          "data": {
            "text/plain": [
              "set"
            ]
          },
          "metadata": {},
          "execution_count": 300
        }
      ]
    },
    {
      "cell_type": "code",
      "source": [
        "emptySet.add(10)\n",
        "emptySet.add(10)\n",
        "emptySet.add(20)\n",
        "emptySet.add(30)\n",
        "emptySet.add(40)"
      ],
      "metadata": {
        "id": "j0wvK80ubjSR"
      },
      "execution_count": 301,
      "outputs": []
    },
    {
      "cell_type": "code",
      "source": [
        "emptySet"
      ],
      "metadata": {
        "colab": {
          "base_uri": "https://localhost:8080/"
        },
        "id": "fEJ3CwbncAhs",
        "outputId": "c86bded8-859a-4105-d986-b94abf1f3e32"
      },
      "execution_count": 302,
      "outputs": [
        {
          "output_type": "execute_result",
          "data": {
            "text/plain": [
              "{10, 20, 30, 40}"
            ]
          },
          "metadata": {},
          "execution_count": 302
        }
      ]
    },
    {
      "cell_type": "markdown",
      "source": [
        "# TUPLE"
      ],
      "metadata": {
        "id": "mStyTzs9co6U"
      }
    },
    {
      "cell_type": "code",
      "source": [
        "#Listeyle hemen hemen aynı\n",
        "#immutiblty(değiştirilemez)"
      ],
      "metadata": {
        "id": "hSrei6bucstx"
      },
      "execution_count": 303,
      "outputs": []
    },
    {
      "cell_type": "code",
      "source": [
        "myTuple=(10,\"a\",3.4)"
      ],
      "metadata": {
        "id": "O-vwpxqKdXps"
      },
      "execution_count": 304,
      "outputs": []
    },
    {
      "cell_type": "code",
      "source": [
        "#myTuple[0]=100 yapılamaz"
      ],
      "metadata": {
        "id": "4C-rKNOqddnD"
      },
      "execution_count": 305,
      "outputs": []
    },
    {
      "cell_type": "code",
      "source": [
        "myTuple[0]"
      ],
      "metadata": {
        "colab": {
          "base_uri": "https://localhost:8080/"
        },
        "id": "hFm9J7yWdmJW",
        "outputId": "fe85201a-b368-4eb5-864b-70c2c3c0b377"
      },
      "execution_count": 306,
      "outputs": [
        {
          "output_type": "execute_result",
          "data": {
            "text/plain": [
              "10"
            ]
          },
          "metadata": {},
          "execution_count": 306
        }
      ]
    },
    {
      "cell_type": "code",
      "source": [
        "myTuple.count(\"a\")"
      ],
      "metadata": {
        "colab": {
          "base_uri": "https://localhost:8080/"
        },
        "id": "qaHhA5mzdoXb",
        "outputId": "ab0e6c6c-03fc-4e1f-854d-3544be1617ce"
      },
      "execution_count": 307,
      "outputs": [
        {
          "output_type": "execute_result",
          "data": {
            "text/plain": [
              "1"
            ]
          },
          "metadata": {},
          "execution_count": 307
        }
      ]
    },
    {
      "cell_type": "code",
      "source": [
        "myTuple.index(3.4)"
      ],
      "metadata": {
        "colab": {
          "base_uri": "https://localhost:8080/"
        },
        "id": "VEi8t4Rcdtlk",
        "outputId": "502b9990-9700-4f93-a28a-24a96402dd2d"
      },
      "execution_count": 308,
      "outputs": [
        {
          "output_type": "execute_result",
          "data": {
            "text/plain": [
              "2"
            ]
          },
          "metadata": {},
          "execution_count": 308
        }
      ]
    },
    {
      "cell_type": "markdown",
      "source": [
        "BOOLEAN"
      ],
      "metadata": {
        "id": "s4UXAvFXjQrt"
      }
    },
    {
      "cell_type": "code",
      "source": [
        "#True/False"
      ],
      "metadata": {
        "id": "btKOUN1WjVGY"
      },
      "execution_count": 309,
      "outputs": []
    },
    {
      "cell_type": "code",
      "source": [
        "myBoolean=True"
      ],
      "metadata": {
        "id": "rVk6fbwrjwXz"
      },
      "execution_count": 310,
      "outputs": []
    },
    {
      "cell_type": "code",
      "source": [
        "myBoolean"
      ],
      "metadata": {
        "colab": {
          "base_uri": "https://localhost:8080/"
        },
        "id": "LqoLex0Hj0-6",
        "outputId": "081102d6-3a31-4cbf-aa69-ddfa3fea7f60"
      },
      "execution_count": 311,
      "outputs": [
        {
          "output_type": "execute_result",
          "data": {
            "text/plain": [
              "True"
            ]
          },
          "metadata": {},
          "execution_count": 311
        }
      ]
    },
    {
      "cell_type": "code",
      "source": [
        "type(myBoolean)"
      ],
      "metadata": {
        "colab": {
          "base_uri": "https://localhost:8080/"
        },
        "id": "49tw67-lj2aL",
        "outputId": "a6f0ffd1-3d80-41b1-d54c-a7509d7b5b00"
      },
      "execution_count": 312,
      "outputs": [
        {
          "output_type": "execute_result",
          "data": {
            "text/plain": [
              "bool"
            ]
          },
          "metadata": {},
          "execution_count": 312
        }
      ]
    },
    {
      "cell_type": "code",
      "source": [
        "age=int(input())"
      ],
      "metadata": {
        "colab": {
          "base_uri": "https://localhost:8080/"
        },
        "id": "rpdwnPSDj5QY",
        "outputId": "58318543-8fa1-473e-9c91-98462c49beb2"
      },
      "execution_count": 313,
      "outputs": [
        {
          "name": "stdout",
          "output_type": "stream",
          "text": [
            "20\n"
          ]
        }
      ]
    },
    {
      "cell_type": "code",
      "source": [
        "age>18"
      ],
      "metadata": {
        "colab": {
          "base_uri": "https://localhost:8080/"
        },
        "id": "sjpDfJkqj9-k",
        "outputId": "bf012ded-bab9-4813-911b-d928d18eef80"
      },
      "execution_count": 314,
      "outputs": [
        {
          "output_type": "execute_result",
          "data": {
            "text/plain": [
              "True"
            ]
          },
          "metadata": {},
          "execution_count": 314
        }
      ]
    }
  ]
}