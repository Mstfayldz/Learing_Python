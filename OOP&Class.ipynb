{
  "nbformat": 4,
  "nbformat_minor": 0,
  "metadata": {
    "colab": {
      "provenance": [],
      "authorship_tag": "ABX9TyNot8vTdESko8Hfr/YAH7fT",
      "include_colab_link": true
    },
    "kernelspec": {
      "name": "python3",
      "display_name": "Python 3"
    },
    "language_info": {
      "name": "python"
    }
  },
  "cells": [
    {
      "cell_type": "markdown",
      "metadata": {
        "id": "view-in-github",
        "colab_type": "text"
      },
      "source": [
        "<a href=\"https://colab.research.google.com/github/Mstfayldz/Learing_Python/blob/master/OOP%26Class.ipynb\" target=\"_parent\"><img src=\"https://colab.research.google.com/assets/colab-badge.svg\" alt=\"Open In Colab\"/></a>"
      ]
    },
    {
      "cell_type": "markdown",
      "source": [
        "# Class (Sınıf): Nesnelerin (objelerin) şablonudur, özellikler (attribute) ve davranışlar (method) tanımlar.\n",
        "\n",
        "Object (Nesne): Bir sınıftan oluşturulan gerçek örnektir.\n",
        "\n",
        "Inheritance (Kalıtım): Bir sınıfın başka bir sınıftan özellik ve davranışları miras almasıdır.\n",
        "\n",
        "Encapsulation (Kapsülleme): Verilerin ve fonksiyonların dışarıdan doğrudan erişimini kısıtlayarak güvenli hale getirilmesidir.\n",
        "\n",
        "Polymorphism (Çok Biçimlilik): Aynı isimli metodun farklı sınıflarda farklı işlevler yapabilmesidir.\n",
        "\n",
        "Abstraction (Soyutlama): Gereksiz detayları gizleyip sadece gerekli özellikleri ön plana çıkarmaktır."
      ],
      "metadata": {
        "id": "HwNHR1PdpUOY"
      }
    },
    {
      "cell_type": "code",
      "execution_count": 377,
      "metadata": {
        "id": "9WA1ghQiX68o"
      },
      "outputs": [],
      "source": [
        "class Person():\n",
        "  name=\"\"\n",
        "  age=0\n",
        "  surname=\"\""
      ]
    },
    {
      "cell_type": "code",
      "source": [
        "my_person=Person()"
      ],
      "metadata": {
        "id": "HarPlqQjdqHt"
      },
      "execution_count": 378,
      "outputs": []
    },
    {
      "cell_type": "code",
      "source": [
        "my_person.name=\"Mustafa\"\n",
        "my_person.age=22\n",
        "my_person.surname=\"AYYILDIZ\""
      ],
      "metadata": {
        "id": "Ky8UabDgdyPV"
      },
      "execution_count": 379,
      "outputs": []
    },
    {
      "cell_type": "code",
      "source": [
        "my_person.name"
      ],
      "metadata": {
        "colab": {
          "base_uri": "https://localhost:8080/",
          "height": 0
        },
        "id": "GBfwTK-Dd8hu",
        "outputId": "1581a647-6024-4327-d332-6f56739daaa4"
      },
      "execution_count": 380,
      "outputs": [
        {
          "output_type": "execute_result",
          "data": {
            "text/plain": [
              "'Mustafa'"
            ],
            "application/vnd.google.colaboratory.intrinsic+json": {
              "type": "string"
            }
          },
          "metadata": {},
          "execution_count": 380
        }
      ]
    },
    {
      "cell_type": "markdown",
      "source": [
        "method initializer"
      ],
      "metadata": {
        "id": "uxfjo-lSh6Hm"
      }
    },
    {
      "cell_type": "code",
      "source": [
        "class Person1():\n",
        "  #property==> aslında python da bu kısmı yazmak zorunlu değil\n",
        "   name=\"\"\n",
        "   age=0\n",
        "   surname=\"\"\n",
        "   job=\"developer\"\n",
        "   #bu yöntemle bu sınıftan bir obje luşturacak kişiye belirttiğimiz parameterleri de vermesni zorunlu kılıyoruz self methoduyla da classın içindeki parametrelerle __init__ de belirttiğimiz parametlerin aynı olduğunu belirtiyoruz\n",
        "   #sınıfın içinde oluşturulan fonksyon/methodlarda \"self\" kullanılmalıdır\n",
        "   #initializer method:\n",
        "   def __init__(self,name,age,surname):\n",
        "     self.name=name\n",
        "     self.age=age\n",
        "     self.surname=surname\n",
        "  #method\n",
        "   def talk(self):\n",
        "     print(f\"I am {self.name}\")"
      ],
      "metadata": {
        "id": "nMKRqSlgd_8i"
      },
      "execution_count": 381,
      "outputs": []
    },
    {
      "cell_type": "code",
      "source": [
        "p1=Person1(\"Mustafa\",22,\"AYYILDIZ\")\n",
        "p2=Person1(\"Ali\",21,\"KARADUMAN\")\n",
        "P3=Person1(\"Ercan\",23,\"AYTAR\")"
      ],
      "metadata": {
        "id": "remQWf37ioBo"
      },
      "execution_count": 382,
      "outputs": []
    },
    {
      "cell_type": "code",
      "source": [
        "p2.surname"
      ],
      "metadata": {
        "colab": {
          "base_uri": "https://localhost:8080/",
          "height": 0
        },
        "id": "5GlKXWGbkSwT",
        "outputId": "1778fc10-598a-4e23-9e29-f41fc51c3e13"
      },
      "execution_count": 383,
      "outputs": [
        {
          "output_type": "execute_result",
          "data": {
            "text/plain": [
              "'KARADUMAN'"
            ],
            "application/vnd.google.colaboratory.intrinsic+json": {
              "type": "string"
            }
          },
          "metadata": {},
          "execution_count": 383
        }
      ]
    },
    {
      "cell_type": "code",
      "source": [
        "p1.talk()"
      ],
      "metadata": {
        "colab": {
          "base_uri": "https://localhost:8080/"
        },
        "id": "FeUxJuKLkuGt",
        "outputId": "3aeb82d2-26c9-40ca-f0a8-2009f9dda3b7"
      },
      "execution_count": 384,
      "outputs": [
        {
          "output_type": "stream",
          "name": "stdout",
          "text": [
            "I am Mustafa\n"
          ]
        }
      ]
    },
    {
      "cell_type": "code",
      "source": [
        "p1.job"
      ],
      "metadata": {
        "colab": {
          "base_uri": "https://localhost:8080/",
          "height": 0
        },
        "id": "2BRxLgRAk7Lo",
        "outputId": "1fdc26e2-705f-4df1-fcdc-05d85fedce92"
      },
      "execution_count": 385,
      "outputs": [
        {
          "output_type": "execute_result",
          "data": {
            "text/plain": [
              "'developer'"
            ],
            "application/vnd.google.colaboratory.intrinsic+json": {
              "type": "string"
            }
          },
          "metadata": {},
          "execution_count": 385
        }
      ]
    },
    {
      "cell_type": "code",
      "source": [
        "p1.job=\"student\""
      ],
      "metadata": {
        "id": "_W5BWnJemSNZ"
      },
      "execution_count": 386,
      "outputs": []
    },
    {
      "cell_type": "code",
      "source": [
        "p1.job"
      ],
      "metadata": {
        "colab": {
          "base_uri": "https://localhost:8080/",
          "height": 0
        },
        "id": "sXog-vJkmVCJ",
        "outputId": "b0687349-177c-41dd-ff51-c467aaa286bd"
      },
      "execution_count": 387,
      "outputs": [
        {
          "output_type": "execute_result",
          "data": {
            "text/plain": [
              "'student'"
            ],
            "application/vnd.google.colaboratory.intrinsic+json": {
              "type": "string"
            }
          },
          "metadata": {},
          "execution_count": 387
        }
      ]
    },
    {
      "cell_type": "code",
      "source": [
        "class Dog():\n",
        "  year=7\n",
        "\n",
        "  def __init__ (self,age): # eğer initilazer içinde istediğim parametreyi kullanıcı vermezse hata dönmesini istemiyorsam default bir değer atayabilirim örneğin\n",
        "  #def __init__(self,age=5) gibi\n",
        "    self.age=age\n",
        "    self.dogHumanAge= self.age*self.year\n",
        "  def humanAge(self):\n",
        "    return self.age*self.year #self.year= Dog.year\n"
      ],
      "metadata": {
        "id": "rIoctldnmWcI"
      },
      "execution_count": 388,
      "outputs": []
    },
    {
      "cell_type": "code",
      "source": [
        "my_dog=Dog(3)"
      ],
      "metadata": {
        "id": "n2DjBnHYvyTW"
      },
      "execution_count": 389,
      "outputs": []
    },
    {
      "cell_type": "code",
      "source": [
        "my_dog.humanAge()"
      ],
      "metadata": {
        "colab": {
          "base_uri": "https://localhost:8080/"
        },
        "id": "OoyGuDxAv6Q0",
        "outputId": "11144343-b94f-4090-8252-d1b11b8742ac"
      },
      "execution_count": 390,
      "outputs": [
        {
          "output_type": "execute_result",
          "data": {
            "text/plain": [
              "21"
            ]
          },
          "metadata": {},
          "execution_count": 390
        }
      ]
    },
    {
      "cell_type": "code",
      "source": [
        "my_dog.dogHumanAge"
      ],
      "metadata": {
        "colab": {
          "base_uri": "https://localhost:8080/"
        },
        "id": "amexkKtnv_3-",
        "outputId": "7e5e26cc-ea0c-4760-ecd5-84ab62e86e1d"
      },
      "execution_count": 391,
      "outputs": [
        {
          "output_type": "execute_result",
          "data": {
            "text/plain": [
              "21"
            ]
          },
          "metadata": {},
          "execution_count": 391
        }
      ]
    },
    {
      "cell_type": "markdown",
      "source": [
        "# Inheritance (Kalıtım): Bir sınıfın başka bir sınıftan özellik ve davranışları miras almasıdır."
      ],
      "metadata": {
        "id": "ZX_PDvD0xXKy"
      }
    },
    {
      "cell_type": "code",
      "source": [
        "class Animal():\n",
        "  def __init__(self,age):\n",
        "    self.age=age\n",
        "    print(\"Animal Created\")\n",
        "  def method1(self):\n",
        "    print(\"Animal Method1\")\n",
        "  def method2(self):\n",
        "    print(\"Animal Method2\")"
      ],
      "metadata": {
        "id": "NbWAVlejwXB_"
      },
      "execution_count": 392,
      "outputs": []
    },
    {
      "cell_type": "markdown",
      "source": [
        "Animal classının özellikleri Cat classına otomatikman geçmiş olur"
      ],
      "metadata": {
        "id": "6eJEKNbj3W86"
      }
    },
    {
      "cell_type": "code",
      "source": [
        "class Cat(Animal):\n",
        "  def __init__(self,age):\n",
        "    Animal.__init__(self,age)\n",
        "    print(\"Cat Created\")\n",
        "  def miyavla(self):\n",
        "    print(\"miyav\")\n",
        "  def method1(self): # Bu işlemin ismi==override==#kalıtım olarak aldığımız bu methodu istersek burada değiştirip modifye edebilriz\n",
        "    print(\"Cat Method1\")"
      ],
      "metadata": {
        "id": "CNo5popq3Q7Q"
      },
      "execution_count": 393,
      "outputs": []
    },
    {
      "cell_type": "code",
      "source": [
        "cat1=Cat(3)\n",
        "animal1=Animal(4)"
      ],
      "metadata": {
        "colab": {
          "base_uri": "https://localhost:8080/"
        },
        "id": "soxrP-JV3jiq",
        "outputId": "a6d01af0-f666-4ff8-88a7-3de6e467c501"
      },
      "execution_count": 394,
      "outputs": [
        {
          "output_type": "stream",
          "name": "stdout",
          "text": [
            "Animal Created\n",
            "Cat Created\n",
            "Animal Created\n"
          ]
        }
      ]
    },
    {
      "cell_type": "code",
      "source": [
        "cat1.miyavla()\n",
        "cat1.method1()"
      ],
      "metadata": {
        "colab": {
          "base_uri": "https://localhost:8080/"
        },
        "id": "D53G384C4GJC",
        "outputId": "0d9c12db-1df9-4223-b2f3-93b1a5834e18"
      },
      "execution_count": 395,
      "outputs": [
        {
          "output_type": "stream",
          "name": "stdout",
          "text": [
            "miyav\n",
            "Cat Method1\n"
          ]
        }
      ]
    },
    {
      "cell_type": "code",
      "source": [
        "animal1.method1()"
      ],
      "metadata": {
        "colab": {
          "base_uri": "https://localhost:8080/"
        },
        "id": "umPcmaR03oeY",
        "outputId": "f7676aff-83f8-4a4c-a45e-5ad3535a51c0"
      },
      "execution_count": 396,
      "outputs": [
        {
          "output_type": "stream",
          "name": "stdout",
          "text": [
            "Animal Method1\n"
          ]
        }
      ]
    },
    {
      "cell_type": "markdown",
      "source": [
        "# Polymorphism (Çok Biçimlilik): Aynı isimli metodun farklı sınıflarda farklı işlevler yapabilmesidir."
      ],
      "metadata": {
        "id": "KJ6TaWLqIrlW"
      }
    },
    {
      "cell_type": "code",
      "source": [
        "class Banana():\n",
        "  def __init__(self,name):\n",
        "    self.name= name\n",
        "  def info(self):\n",
        "    return f\"100 calories {self.name}\"\n",
        "class Apple():\n",
        "  def __init__(self,name):\n",
        "    self.name=name\n",
        "  def info(self):\n",
        "    return f\"150 calories {self.name}\"\n"
      ],
      "metadata": {
        "id": "Nfiiebli4bCm"
      },
      "execution_count": 397,
      "outputs": []
    },
    {
      "cell_type": "code",
      "source": [
        "banana=Banana(\"banana\")\n",
        "apple=Apple(\"apple\")"
      ],
      "metadata": {
        "id": "qt3_vxeIJqES"
      },
      "execution_count": 398,
      "outputs": []
    },
    {
      "cell_type": "code",
      "source": [
        "myList=[banana,apple]"
      ],
      "metadata": {
        "id": "NEyyDHSXJr74"
      },
      "execution_count": 399,
      "outputs": []
    },
    {
      "cell_type": "code",
      "source": [
        "for fruit in myList:\n",
        "  print(fruit.info())"
      ],
      "metadata": {
        "colab": {
          "base_uri": "https://localhost:8080/"
        },
        "id": "6schDts_KUQm",
        "outputId": "c994e4b9-9662-45ed-e20a-b33399841de6"
      },
      "execution_count": 400,
      "outputs": [
        {
          "output_type": "stream",
          "name": "stdout",
          "text": [
            "100 calories banana\n",
            "150 calories apple\n"
          ]
        }
      ]
    },
    {
      "cell_type": "markdown",
      "source": [
        "# Encapsulation (Kapsülleme): Verilerin ve fonksiyonların dışarıdan doğrudan erişimini kısıtlayarak güvenli hale getirilmesidir."
      ],
      "metadata": {
        "id": "-BGYFkGJKq80"
      }
    },
    {
      "cell_type": "code",
      "source": [
        "class Phone():\n",
        "  def __init__(self,name,price):\n",
        "    self.name=name\n",
        "    self.__price=price  #değişkenimin önüne __ koyduğum zaman bu değişken sadece callsın içinde değiştirilebilir\n",
        "  def info(self):\n",
        "    print(f\"{self.name} price is: {self.__price}\")\n",
        "  def changePrice(self,price):  # eğer gerekirse diye değiştirme fonksiyonunu yazabiliriz çünkü hala classın içindeyiz\n",
        "    self.__price=price"
      ],
      "metadata": {
        "id": "9FZJLvzpKmFj"
      },
      "execution_count": 401,
      "outputs": []
    },
    {
      "cell_type": "code",
      "source": [
        "iphone=Phone(\"AppleX\",500)"
      ],
      "metadata": {
        "id": "aiER9_BTbbIh"
      },
      "execution_count": 402,
      "outputs": []
    },
    {
      "cell_type": "code",
      "source": [
        "iphone.info()"
      ],
      "metadata": {
        "colab": {
          "base_uri": "https://localhost:8080/"
        },
        "id": "EFuinaOAbjHk",
        "outputId": "e9b56049-4710-4b95-8a17-d53a252c0496"
      },
      "execution_count": 403,
      "outputs": [
        {
          "output_type": "stream",
          "name": "stdout",
          "text": [
            "AppleX price is: 500\n"
          ]
        }
      ]
    },
    {
      "cell_type": "code",
      "source": [
        "iphone.name=\"AppleY\""
      ],
      "metadata": {
        "id": "51m1lBGzbkug"
      },
      "execution_count": 404,
      "outputs": []
    },
    {
      "cell_type": "code",
      "source": [
        "iphone.__price=400 # değişmez"
      ],
      "metadata": {
        "id": "ix3_3UojbsFE"
      },
      "execution_count": 405,
      "outputs": []
    },
    {
      "cell_type": "code",
      "source": [
        "iphone.info()"
      ],
      "metadata": {
        "colab": {
          "base_uri": "https://localhost:8080/"
        },
        "id": "wHTZD5ULbvPa",
        "outputId": "09f9d370-7989-4a12-a4b0-de82129b89de"
      },
      "execution_count": 406,
      "outputs": [
        {
          "output_type": "stream",
          "name": "stdout",
          "text": [
            "AppleY price is: 500\n"
          ]
        }
      ]
    },
    {
      "cell_type": "code",
      "source": [
        "iphone.changePrice(300)"
      ],
      "metadata": {
        "id": "2lCvVj6_bxCO"
      },
      "execution_count": 407,
      "outputs": []
    },
    {
      "cell_type": "code",
      "source": [
        "iphone.info()"
      ],
      "metadata": {
        "colab": {
          "base_uri": "https://localhost:8080/"
        },
        "id": "1WMqCJu9cNRC",
        "outputId": "5dc39898-885d-4ee2-bf47-a16e9dd1bc7d"
      },
      "execution_count": 408,
      "outputs": [
        {
          "output_type": "stream",
          "name": "stdout",
          "text": [
            "AppleY price is: 300\n"
          ]
        }
      ]
    },
    {
      "cell_type": "markdown",
      "source": [
        "# Abstraction (Soyutlama): Gereksiz detayları gizleyip sadece gerekli özellikleri ön plana çıkarmaktır."
      ],
      "metadata": {
        "id": "nLqUtWNhccfg"
      }
    },
    {
      "cell_type": "markdown",
      "source": [
        "kütüphaneden çağırmamız gerekir"
      ],
      "metadata": {
        "id": "A_45sH7wdWC5"
      }
    },
    {
      "cell_type": "code",
      "source": [
        "from abc import ABC,abstractmethod"
      ],
      "metadata": {
        "id": "oFmp950ocOxh"
      },
      "execution_count": 409,
      "outputs": []
    },
    {
      "cell_type": "code",
      "source": [
        "class Car(ABC):\n",
        "  @abstractmethod\n",
        "  def maxSpeed(self):# Burda tanımlanan method aslında  diğer burdan inheritance ile alınacak classların temel bir zorunlu method oluşturması için yapılıyor ve bu yüzden abstract bir method bu\n",
        "    pass"
      ],
      "metadata": {
        "id": "E36ZHElWddXr"
      },
      "execution_count": 410,
      "outputs": []
    },
    {
      "cell_type": "code",
      "source": [
        "class Porshe(Car):\n",
        "  def maxSpeed(self):\n",
        "    print(\"300\")"
      ],
      "metadata": {
        "id": "IwxHJRwTfEwk"
      },
      "execution_count": 411,
      "outputs": []
    },
    {
      "cell_type": "code",
      "source": [
        "p=Porshe()"
      ],
      "metadata": {
        "id": "DiAWrd3meQTN"
      },
      "execution_count": 412,
      "outputs": []
    },
    {
      "cell_type": "code",
      "source": [
        "p.maxSpeed()"
      ],
      "metadata": {
        "colab": {
          "base_uri": "https://localhost:8080/"
        },
        "id": "1lZZxv9UeUE3",
        "outputId": "9d694c48-98f4-4fa0-eaea-11d95f7a457f"
      },
      "execution_count": 413,
      "outputs": [
        {
          "output_type": "stream",
          "name": "stdout",
          "text": [
            "300\n"
          ]
        }
      ]
    },
    {
      "cell_type": "code",
      "source": [
        "class Mercedes(Car):\n",
        "  def maxSpeed(self):\n",
        "    print(\"250\")"
      ],
      "metadata": {
        "id": "ePHF2vQIeWJj"
      },
      "execution_count": 414,
      "outputs": []
    },
    {
      "cell_type": "code",
      "source": [
        "m=Mercedes()\n"
      ],
      "metadata": {
        "id": "39N-PBxBehuH"
      },
      "execution_count": 415,
      "outputs": []
    },
    {
      "cell_type": "code",
      "source": [
        "m.maxSpeed()"
      ],
      "metadata": {
        "colab": {
          "base_uri": "https://localhost:8080/"
        },
        "id": "C6hz2yL0ekWl",
        "outputId": "9a151d12-f47c-4a40-b748-5103016a1028"
      },
      "execution_count": 416,
      "outputs": [
        {
          "output_type": "stream",
          "name": "stdout",
          "text": [
            "250\n"
          ]
        }
      ]
    },
    {
      "cell_type": "code",
      "source": [],
      "metadata": {
        "id": "u-qlRF6Zel3C"
      },
      "execution_count": 416,
      "outputs": []
    },
    {
      "cell_type": "markdown",
      "source": [
        "# Special Methods"
      ],
      "metadata": {
        "id": "cyGWZBDvfUED"
      }
    },
    {
      "cell_type": "code",
      "source": [
        "class Fruit():\n",
        "  def __init__ (self,name,calories):\n",
        "    self.name=name\n",
        "    self.calories=calories\n",
        "  def __str__(self):  # peint ettiğimde istediğim formatta yazması iin kullanılır\n",
        "    return f\"{self.name}: {self.calories} caloridir\""
      ],
      "metadata": {
        "id": "9oTITii0fX4a"
      },
      "execution_count": 417,
      "outputs": []
    },
    {
      "cell_type": "code",
      "source": [
        "my_fruit=Fruit(\"Apple\",123)"
      ],
      "metadata": {
        "id": "Jh25RPQvg7SO"
      },
      "execution_count": 418,
      "outputs": []
    },
    {
      "cell_type": "code",
      "source": [
        "print(my_fruit)"
      ],
      "metadata": {
        "colab": {
          "base_uri": "https://localhost:8080/"
        },
        "id": "bG84TgPEhS6C",
        "outputId": "292c56ca-062a-4943-8b70-a7b80bb0aed0"
      },
      "execution_count": 419,
      "outputs": [
        {
          "output_type": "stream",
          "name": "stdout",
          "text": [
            "Apple: 123 caloridir\n"
          ]
        }
      ]
    },
    {
      "cell_type": "markdown",
      "source": [
        "python special methods sayfasından özel methodlara bakılabilir"
      ],
      "metadata": {
        "id": "l8XJ0alGiJRU"
      }
    },
    {
      "cell_type": "code",
      "source": [
        "class Human():\n",
        "  def __init__(self,name):\n",
        "    self.name=name\n",
        "  def __getitem__(self,key):\n",
        "    if key==\"a\":\n",
        "      return self.name\n",
        "    else:\n",
        "      return \"not found\"\n",
        "  def __add__(self,other):\n",
        "    print(\"adding\")\n",
        "    return Human(other.name+\" \"+self.name)"
      ],
      "metadata": {
        "id": "n0e_WX-nhXAn"
      },
      "execution_count": 420,
      "outputs": []
    },
    {
      "cell_type": "code",
      "source": [
        "h=Human(\"Mustafa\")"
      ],
      "metadata": {
        "id": "Gzw9emqCimza"
      },
      "execution_count": 421,
      "outputs": []
    },
    {
      "cell_type": "code",
      "source": [
        "h[\"a\"]# __getitem__ methodunu motifiye ettiğim için kullanabildim"
      ],
      "metadata": {
        "colab": {
          "base_uri": "https://localhost:8080/",
          "height": 36
        },
        "id": "cB3wF-zYiqdw",
        "outputId": "1d623239-849e-47db-9359-e0181ebba587"
      },
      "execution_count": 422,
      "outputs": [
        {
          "output_type": "execute_result",
          "data": {
            "text/plain": [
              "'Mustafa'"
            ],
            "application/vnd.google.colaboratory.intrinsic+json": {
              "type": "string"
            }
          },
          "metadata": {},
          "execution_count": 422
        }
      ]
    },
    {
      "cell_type": "code",
      "source": [
        "h[\"b\"]"
      ],
      "metadata": {
        "colab": {
          "base_uri": "https://localhost:8080/",
          "height": 36
        },
        "id": "1QtA-GE7isVx",
        "outputId": "4e6ccbad-86c8-45f7-cfe2-1c755c8d7dea"
      },
      "execution_count": 423,
      "outputs": [
        {
          "output_type": "execute_result",
          "data": {
            "text/plain": [
              "'not found'"
            ],
            "application/vnd.google.colaboratory.intrinsic+json": {
              "type": "string"
            }
          },
          "metadata": {},
          "execution_count": 423
        }
      ]
    },
    {
      "cell_type": "code",
      "source": [
        "h2=Human(\"Ali\")"
      ],
      "metadata": {
        "id": "pc5gDHdbivpA"
      },
      "execution_count": 424,
      "outputs": []
    },
    {
      "cell_type": "code",
      "source": [
        "h3=h+h2 #__add__ methodunu override ettiğim için kullanabildim"
      ],
      "metadata": {
        "colab": {
          "base_uri": "https://localhost:8080/"
        },
        "id": "KjcDvToEjVWI",
        "outputId": "decaf81c-11f8-4038-ead3-be275e0534c2"
      },
      "execution_count": 425,
      "outputs": [
        {
          "output_type": "stream",
          "name": "stdout",
          "text": [
            "adding\n"
          ]
        }
      ]
    },
    {
      "cell_type": "code",
      "source": [
        "h3.name"
      ],
      "metadata": {
        "colab": {
          "base_uri": "https://localhost:8080/",
          "height": 36
        },
        "id": "7EEJ8ExFjWpU",
        "outputId": "c2bf26e4-8c21-4686-c9a3-fbf31f53914b"
      },
      "execution_count": 426,
      "outputs": [
        {
          "output_type": "execute_result",
          "data": {
            "text/plain": [
              "'Ali Mustafa'"
            ],
            "application/vnd.google.colaboratory.intrinsic+json": {
              "type": "string"
            }
          },
          "metadata": {},
          "execution_count": 426
        }
      ]
    },
    {
      "cell_type": "code",
      "source": [],
      "metadata": {
        "id": "O4MZjbJLjc90"
      },
      "execution_count": 426,
      "outputs": []
    },
    {
      "cell_type": "markdown",
      "source": [
        "# Handling Errors"
      ],
      "metadata": {
        "id": "EeTNJ0K9oO5P"
      }
    },
    {
      "cell_type": "markdown",
      "source": [
        "try except"
      ],
      "metadata": {
        "id": "5b8ARBKpo9lO"
      }
    },
    {
      "cell_type": "code",
      "source": [
        "try:\n",
        "  age= int(input(\"enter your age: \"))\n",
        "  print(age*2)\n",
        "except: # buraya daha spesifik bir error gelirse ona göre bir hata mesjı da yazdırabilirdik örneğin: except ValueError diyip alta mesajı yazdırabilirdik\n",
        "  print(\"Please enter your age in the correct format\")"
      ],
      "metadata": {
        "colab": {
          "base_uri": "https://localhost:8080/"
        },
        "id": "vpFF4pzGoUEO",
        "outputId": "a24ebaae-26db-44bc-b5ca-ee088b879db9"
      },
      "execution_count": 427,
      "outputs": [
        {
          "output_type": "stream",
          "name": "stdout",
          "text": [
            "enter your age: ali\n",
            "Please enter your age in the correct format\n"
          ]
        }
      ]
    },
    {
      "cell_type": "code",
      "source": [
        "while True:\n",
        "  try:\n",
        "    age= int(input(\"enter your age: \"))\n",
        "    print(age*2)\n",
        "    break\n",
        "  except:\n",
        "    print(\"Please enter your age in the correct format\")"
      ],
      "metadata": {
        "colab": {
          "base_uri": "https://localhost:8080/"
        },
        "id": "NIrvWfwIpPTa",
        "outputId": "3b9e2cd9-bce5-4493-c0c4-04ed5bf5c14e"
      },
      "execution_count": 428,
      "outputs": [
        {
          "output_type": "stream",
          "name": "stdout",
          "text": [
            "enter your age: ali\n",
            "Please enter your age in the correct format\n",
            "enter your age: veli\n",
            "Please enter your age in the correct format\n",
            "enter your age: 23\n",
            "46\n"
          ]
        }
      ]
    },
    {
      "cell_type": "code",
      "source": [
        "while True:\n",
        "  try:\n",
        "    age= int(input(\"enter your age: \"))\n",
        "    print(age*2)\n",
        "    break\n",
        "  except:\n",
        "    print(\"Please enter your age in the correct format\")\n",
        "  else:\n",
        "    print(\"executed else\")\n",
        "  finally:\n",
        "    print(\"finally\")"
      ],
      "metadata": {
        "colab": {
          "base_uri": "https://localhost:8080/"
        },
        "id": "vnZEXU8ZqLCF",
        "outputId": "19e3beaf-fb42-4b0e-8dfd-7239e94851ae"
      },
      "execution_count": 429,
      "outputs": [
        {
          "output_type": "stream",
          "name": "stdout",
          "text": [
            "enter your age: 2\n",
            "4\n",
            "finally\n"
          ]
        }
      ]
    },
    {
      "cell_type": "code",
      "source": [],
      "metadata": {
        "id": "7loR82IOq7Sb"
      },
      "execution_count": 429,
      "outputs": []
    }
  ]
}